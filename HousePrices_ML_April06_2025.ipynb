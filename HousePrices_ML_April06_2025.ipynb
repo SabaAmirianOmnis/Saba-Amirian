{
 "cells": [
  {
   "cell_type": "code",
   "execution_count": null,
   "id": "2d1a4cd7-da4d-4b6e-92b8-02ec10cd8f36",
   "metadata": {},
   "outputs": [],
   "source": [
    "import pandas as pd\n",
    "import matplotlib.pyplot as plt\n",
    "from sklearn.model_selection import train_test_split\n",
    "from sklearn.linear_model import LinearRegression\n",
    "from sklearn.neighbors import KNeighborsRegressor\n",
    "from sklearn.metrics import mean_squared_error\n",
    "\n",
    "\n",
    "\n",
    "\n",
    "df = pd.read_csv(r\"C:\\Users\\ASUS\\Downloads\\House Prices.csv\")\n",
    "\n",
    "\n",
    "\n",
    "\n",
    "features = [\"LotArea\", \"OverallQual\", \"YearBuilt\"]\n",
    "X = df[features]\n",
    "Y = df[\"SalePrice\"]\n",
    "\n",
    "\n",
    "\n",
    "\n",
    "X_train, X_test, Y_train, Y_test = train_test_split(X, Y, test_size = 0.2, random_state = 42)\n",
    "\n",
    "\n",
    "\n",
    "\n",
    "lr_model = LinearRegression()\n",
    "lr_model.fit(X_train, Y_train)\n",
    "lr_pred = lr_model.predict(X_test)\n",
    "lr_mse = mean_squared_error(Y_test, lr_pred)\n",
    "print(\"Linear Regression MSE :\", lr_mse)\n",
    "\n",
    "\n",
    "\n",
    "\n",
    "knn_model = KNeighborsRegressor(n_neighbors = 5)\n",
    "knn_model.fit(X_train, Y_train)\n",
    "knn_pred = knn_model.predict(X_test)\n",
    "knn_mse = mean_squared_error(Y_test, knn_pred)\n",
    "print(\"KNN MSE :\", knn_mse)\n",
    "\n",
    "\n",
    "\n",
    "\n",
    "plt.figure(figsize = (8, 5))\n",
    "plt.scatter(Y_test, lr_pred, color = \"blue\", alpha = 0.5, label = \"LinearRegression\")\n",
    "plt.scatter(Y_test, knn_pred, color = \"orange\", alpha = 0.5, label = \"KNN\")\n",
    "plt.plot([Y_test.min(), Y_test.max()], [Y_test.min(), Y_test.max()], \"r--\", lw = 2)\n",
    "plt.title(\"Actual VS Predicted SalePrice\")\n",
    "plt.xlabel(\"Actual SalePrice ($)\")\n",
    "plt.ylabel(\"Predicted SalePrice ($)\")\n",
    "plt.legend()\n",
    "plt.savefig(\"HousePrices_mo"
   ]
  }
 ],
 "metadata": {
  "kernelspec": {
   "display_name": "Python 3 (ipykernel)",
   "language": "python",
   "name": "python3"
  },
  "language_info": {
   "codemirror_mode": {
    "name": "ipython",
    "version": 3
   },
   "file_extension": ".py",
   "mimetype": "text/x-python",
   "name": "python",
   "nbconvert_exporter": "python",
   "pygments_lexer": "ipython3",
   "version": "3.12.7"
  }
 },
 "nbformat": 4,
 "nbformat_minor": 5
}
