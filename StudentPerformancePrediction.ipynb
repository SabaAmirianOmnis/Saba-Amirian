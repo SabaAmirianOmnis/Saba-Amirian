{
 "cells": [
  {
   "cell_type": "code",
   "execution_count": 1,
   "id": "c080fbdf-19a8-40ef-8e7b-2375fce83f94",
   "metadata": {},
   "outputs": [
    {
     "ename": "SyntaxError",
     "evalue": "invalid syntax. Perhaps you forgot a comma? (3325487821.py, line 31)",
     "output_type": "error",
     "traceback": [
      "\u001b[1;36m  Cell \u001b[1;32mIn[1], line 31\u001b[1;36m\u001b[0m\n\u001b[1;33m    X_train, X_test, Y_train, Y_test = train_test_split(X, Y, test_size  0.2, random_state = 42)\u001b[0m\n\u001b[1;37m                                                              ^\u001b[0m\n\u001b[1;31mSyntaxError\u001b[0m\u001b[1;31m:\u001b[0m invalid syntax. Perhaps you forgot a comma?\n"
     ]
    }
   ],
   "source": [
    "import pandas as pd\n",
    "import numpy as np\n",
    "from sklearn.model_selection import train_test_split\n",
    "from sklearn.linear_model import LogisticRegression\n",
    "from sklearn.preprocessing import StandardScaler\n",
    "from sklearn.metrics import accuracy_score, classification_report\n",
    "\n",
    "\n",
    "\n",
    "df = pd.read_csv(r\"C:\\Users\\ASUS\\Downloads\\StudentsPerformance.csv\")\n",
    "\n",
    "\n",
    "\n",
    "print(\"First 5 rows of the dataset :\")\n",
    "print(df.head())\n",
    "print(\"\\nDataset Info :\")\n",
    "print(df.info())\n",
    "\n",
    "\n",
    "\n",
    "df['average_score'] = (df['math score'] + df['reading score'] + df['writing score'])/3\n",
    "df['pass'] = np.where(df['average_score'] > 60, 1, 0)\n",
    "\n",
    "\n",
    "\n",
    "X = df[['math score', 'reading score', 'writing score']]\n",
    "Y = df['pass']\n",
    "\n",
    "\n",
    "\n",
    "X_train, X_test, Y_train, Y_test = train_test_split(X, Y, test_size  0.2, random_state = 42)\n",
    "\n",
    "\n",
    "\n",
    "scaler = StandardScaler()\n",
    "X_train = scaler.fit_transform(X_train)\n",
    "X_test = scaler.transform(X_test)\n",
    "\n",
    "\n",
    "\n",
    "model = LogisticRegression(random_state = 42)\n",
    "model.fit(X_train, Y_train)\n",
    "\n",
    "\n",
    "\n",
    "Y_pred = model.predict(X_test)\n",
    "\n",
    "\n",
    "\n",
    "accuracy = accuracy_score(Y_test, Y_pred)\n",
    "print(f\"\\nAccuracy of the model : {accuracy:.2f}\")\n",
    "\n",
    "\n",
    "\n",
    "print(\"\\nClassification Report :\")\n",
    "print(classification_report(Y_test, Y_pred, target_names = ['Fail', 'Pass']))\n",
    "\n",
    "\n",
    "\n",
    "new_student = np.array([[70, 65, 68]])\n",
    "new_student_scaled = scaler.transform(new_student)\n",
    "prediction = model.predict(new_student_scaled)\n",
    "result = \"Pass\" if prediction [0] == 1 else \"Fail\"\n",
    "print(f\"\\nPrediction for new student (math = 70, reading = 65, writing = 68) : {result}\")"
   ]
  },
  {
   "cell_type": "code",
   "execution_count": null,
   "id": "e023a3e2-ac94-4baf-81e1-5f40f257bbb6",
   "metadata": {},
   "outputs": [],
   "source": []
  }
 ],
 "metadata": {
  "kernelspec": {
   "display_name": "Python 3 (ipykernel)",
   "language": "python",
   "name": "python3"
  },
  "language_info": {
   "codemirror_mode": {
    "name": "ipython",
    "version": 3
   },
   "file_extension": ".py",
   "mimetype": "text/x-python",
   "name": "python",
   "nbconvert_exporter": "python",
   "pygments_lexer": "ipython3",
   "version": "3.12.7"
  }
 },
 "nbformat": 4,
 "nbformat_minor": 5
}
