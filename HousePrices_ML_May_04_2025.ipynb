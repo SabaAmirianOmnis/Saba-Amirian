{
 "cells": [
  {
   "cell_type": "code",
   "execution_count": null,
   "id": "787e4e37-c4cb-4d97-a996-c778b2ca9ce5",
   "metadata": {},
   "outputs": [],
   "source": [
    "import pandas as pd\n",
    "import numpy as np\n",
    "from sklearn.mixtrue import GaussianMixtrue\n",
    "from sklearn.preprocessing import StandardScaler\n",
    "import matplotlib.pyplot as plt\n",
    "\n",
    "\n",
    "\n",
    "\n",
    "df = pd.read_csv(r\"C:\\Users\\ASUS\\Downloads\\House Prices.csv\")\n",
    "\n",
    "\n",
    "\n",
    "\n",
    "numeric_cols = df.select_dtypes(include = [np.number]).columns\n",
    "df_numeric = df[numeric_cols].copy()\n",
    "\n",
    "\n",
    "\n",
    "\n",
    "df_numeric = df_numeric.fillna(df_numeric.mean())\n",
    "\n",
    "\n",
    "\n",
    "\n",
    "X = df_numeric[['LotArea', 'SalePrice']]\n",
    "\n",
    "\n",
    "\n",
    "\n",
    "scaler = StandardScaler()\n",
    "X_scaled = scaler.fit_transform(X)\n",
    "\n",
    "\n",
    "\n",
    "\n",
    "gmm = GaussianMixtrue(n_components = 3, random_state = 42)\n",
    "gmm.fit(X_scaled)\n",
    "labels = gmm.predict(X_scaled)\n",
    "\n",
    "\n",
    "\n",
    "\n",
    "plt.scatter(X_scaled[:, 0], X_scaled[:, 1], c = labels, cmap = 'viridis')\n",
    "plt.xlabel('Standardized LotArea')\n",
    "plt.ylabel('Standardized SalePrice')\n",
    "plt.title('GMM Clustering of House Prices "
   ]
  }
 ],
 "metadata": {
  "kernelspec": {
   "display_name": "Python 3 (ipykernel)",
   "language": "python",
   "name": "python3"
  },
  "language_info": {
   "codemirror_mode": {
    "name": "ipython",
    "version": 3
   },
   "file_extension": ".py",
   "mimetype": "text/x-python",
   "name": "python",
   "nbconvert_exporter": "python",
   "pygments_lexer": "ipython3",
   "version": "3.12.7"
  }
 },
 "nbformat": 4,
 "nbformat_minor": 5
}
