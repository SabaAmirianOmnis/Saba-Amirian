{
 "cells": [
  {
   "cell_type": "code",
   "execution_count": 1,
   "id": "4a110f4e-de82-4d4b-9f1d-ac52e149bd17",
   "metadata": {},
   "outputs": [
    {
     "name": "stdout",
     "output_type": "stream",
     "text": [
      "   age     sex     bmi  children smoker     region      charges\n",
      "0   19  female  27.900         0    yes  southwest  16884.92400\n",
      "1   18    male  33.770         1     no  southeast   1725.55230\n",
      "2   28    male  33.000         3     no  southeast   4449.46200\n",
      "3   33    male  22.705         0     no  northwest  21984.47061\n",
      "4   32    male  28.880         0     no  northwest   3866.85520\n"
     ]
    }
   ],
   "source": [
    "import pandas as pd\n",
    "\n",
    "\n",
    "\n",
    "df = pd.read_csv(r\"C:\\Users\\ASUS\\Downloads\\Medical.csv\")\n",
    "print(df.head())"
   ]
  },
  {
   "cell_type": "code",
   "execution_count": 2,
   "id": "f37409f5-6c3d-46e7-92e2-4fa0fdbe0141",
   "metadata": {},
   "outputs": [
    {
     "name": "stdout",
     "output_type": "stream",
     "text": [
      "Average charges in southwest : 12346.94\n",
      "Average charges in southeast : 14735.41\n",
      "Average charges in northwest : 12417.58\n",
      "Average charges in northeast : 13406.38\n"
     ]
    }
   ],
   "source": [
    "def calculate_average_by_region(df, region):\n",
    "    region_data = df[df['region'] == region]\n",
    "    return region_data['charges'].mean()\n",
    "\n",
    "\n",
    "\n",
    "regions = df['region'].unique()\n",
    "for region in regions:\n",
    "    avg = calculate_average_by_region(df, region)\n",
    "    print(f\"Average charges in {region} : {avg:.2f}\")"
   ]
  },
  {
   "cell_type": "code",
   "execution_count": 3,
   "id": "4d53c8c0-618b-472e-a562-2ff8baee6554",
   "metadata": {},
   "outputs": [
    {
     "name": "stdout",
     "output_type": "stream",
     "text": [
      "Average charges by region: {'southwest': 12346.937377292308, 'southeast': 14735.411437609888, 'northwest': 12417.57537396923, 'northeast': 13406.384516385804}\n"
     ]
    }
   ],
   "source": [
    "avg_charges_dict = {}\n",
    "for region in regions:\n",
    "    avg = calculate_average_by_region(df, region)\n",
    "    avg_charges_dict[region] = avg\n",
    "\n",
    "\n",
    "\n",
    "print(f\"Average charges by region:\",avg_charges_dict)"
   ]
  },
  {
   "cell_type": "code",
   "execution_count": null,
   "id": "a60f25df-2790-484b-b940-0faecb17ab6e",
   "metadata": {},
   "outputs": [],
   "source": []
  }
 ],
 "metadata": {
  "kernelspec": {
   "display_name": "Python 3 (ipykernel)",
   "language": "python",
   "name": "python3"
  },
  "language_info": {
   "codemirror_mode": {
    "name": "ipython",
    "version": 3
   },
   "file_extension": ".py",
   "mimetype": "text/x-python",
   "name": "python",
   "nbconvert_exporter": "python",
   "pygments_lexer": "ipython3",
   "version": "3.12.7"
  }
 },
 "nbformat": 4,
 "nbformat_minor": 5
}
