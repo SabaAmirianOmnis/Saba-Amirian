{
 "cells": [
  {
   "cell_type": "code",
   "execution_count": 1,
   "id": "c2fe9be7-7672-47be-8d5d-9b9dfcd18ef2",
   "metadata": {},
   "outputs": [
    {
     "ename": "SyntaxError",
     "evalue": "invalid syntax (2182638524.py, line 39)",
     "output_type": "error",
     "traceback": [
      "\u001b[1;36m  Cell \u001b[1;32mIn[1], line 39\u001b[1;36m\u001b[0m\n\u001b[1;33m    result.append(current.data):\u001b[0m\n\u001b[1;37m                               ^\u001b[0m\n\u001b[1;31mSyntaxError\u001b[0m\u001b[1;31m:\u001b[0m invalid syntax\n"
     ]
    }
   ],
   "source": [
    "import pandas as pd\n",
    "import matplotlib.pyplot as plt\n",
    "\n",
    "\n",
    "\n",
    "\n",
    "class Node:\n",
    "    def __init__(self, data):\n",
    "        self.data = data\n",
    "        self.next = None\n",
    "\n",
    "\n",
    "\n",
    "\n",
    "class LinkedList:\n",
    "    def __init__(self):\n",
    "        self.head = None\n",
    "\n",
    "\n",
    "\n",
    "\n",
    "    def append(self, data):\n",
    "        new_node = Node(data)\n",
    "        if not self.head:\n",
    "            self.head = new_node\n",
    "            return\n",
    "        current = self.head\n",
    "        while current.next:\n",
    "            current = current.next\n",
    "        current.next = new_node\n",
    "\n",
    "\n",
    "\n",
    "\n",
    "    def to_list(self):\n",
    "        result = []\n",
    "        current = self.head\n",
    "        while current:\n",
    "            result.append(current.data):\n",
    "            current = current.next\n",
    "        return result\n",
    "\n",
    "\n",
    "\n",
    "\n",
    "df = pd.read_csv(r\"C:\\Users\\ASUS\\Downloads\\Titanic.csv\")\n",
    "\n",
    "\n",
    "\n",
    "\n",
    "II = LinkedList()\n",
    "for survived in df['Survived']:\n",
    "    if survived == 1:\n",
    "        II.append(survived)\n",
    "\n",
    "\n",
    "\n",
    "\n",
    "survived_list = II.to_list()\n",
    "print(\"Survived Count :\", len(survived_list))\n",
    "\n",
    "\n",
    "\n",
    "\n",
    "plt.bar(['Died', 'Survived'], [len(df) - len(survived_lit), len(survived_list)], color = ['red', 'green'])\n",
    "plt.title('Survival Count')\n",
    "plt.ylabel"
   ]
  },
  {
   "cell_type": "code",
   "execution_count": null,
   "id": "6e0bdfc8-c749-4b4e-9e97-a42d1086e585",
   "metadata": {},
   "outputs": [],
   "source": []
  }
 ],
 "metadata": {
  "kernelspec": {
   "display_name": "Python 3 (ipykernel)",
   "language": "python",
   "name": "python3"
  },
  "language_info": {
   "codemirror_mode": {
    "name": "ipython",
    "version": 3
   },
   "file_extension": ".py",
   "mimetype": "text/x-python",
   "name": "python",
   "nbconvert_exporter": "python",
   "pygments_lexer": "ipython3",
   "version": "3.12.7"
  }
 },
 "nbformat": 4,
 "nbformat_minor": 5
}
