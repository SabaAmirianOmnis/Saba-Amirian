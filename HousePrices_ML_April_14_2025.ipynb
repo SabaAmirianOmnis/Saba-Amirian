{
 "cells": [
  {
   "cell_type": "code",
   "execution_count": 1,
   "id": "20d2c810-5c72-4ea8-b5f6-2f0551cd3560",
   "metadata": {},
   "outputs": [
    {
     "ename": "NameError",
     "evalue": "name 'cross_val_score' is not defined",
     "output_type": "error",
     "traceback": [
      "\u001b[1;31m---------------------------------------------------------------------------\u001b[0m",
      "\u001b[1;31mNameError\u001b[0m                                 Traceback (most recent call last)",
      "Cell \u001b[1;32mIn[1], line 30\u001b[0m\n\u001b[0;32m     21\u001b[0m X \u001b[38;5;241m=\u001b[39m X\u001b[38;5;241m.\u001b[39mfillna(X\u001b[38;5;241m.\u001b[39mmean())\n\u001b[0;32m     25\u001b[0m model \u001b[38;5;241m=\u001b[39m XGBRegressor(n_estimators \u001b[38;5;241m=\u001b[39m \u001b[38;5;241m100\u001b[39m, learning_rate \u001b[38;5;241m=\u001b[39m \u001b[38;5;241m0.1\u001b[39m, random_state \u001b[38;5;241m=\u001b[39m \u001b[38;5;241m42\u001b[39m)\n\u001b[1;32m---> 30\u001b[0m scores \u001b[38;5;241m=\u001b[39m cross_val_score(model, X, Y, cv \u001b[38;5;241m=\u001b[39m \u001b[38;5;241m5\u001b[39m, scoring \u001b[38;5;241m=\u001b[39m \u001b[38;5;124m'\u001b[39m\u001b[38;5;124mneg_mean_squared_error\u001b[39m\u001b[38;5;124m'\u001b[39m)\n\u001b[0;32m     31\u001b[0m mse_scores \u001b[38;5;241m=\u001b[39m \u001b[38;5;241m-\u001b[39mscores\n\u001b[0;32m     32\u001b[0m \u001b[38;5;28mprint\u001b[39m(\u001b[38;5;124m\"\u001b[39m\u001b[38;5;124mMean MSE from Cross-Validation :\u001b[39m\u001b[38;5;124m\"\u001b[39m, mse_scores_mean())\n",
      "\u001b[1;31mNameError\u001b[0m: name 'cross_val_score' is not defined"
     ]
    }
   ],
   "source": [
    "import pandas as pd\n",
    "import numpy as np\n",
    "from xgboost import XGBRegressor\n",
    "from sklearn.model_selection import train_test_split\n",
    "\n",
    "\n",
    "\n",
    "\n",
    "df = pd.read_csv(r\"C:\\Users\\ASUS\\Downloads\\House Prices.csv\")\n",
    "\n",
    "\n",
    "\n",
    "\n",
    "features = ['GrLivArea', 'OverallQual', 'YearBuilt']\n",
    "X = df[features]\n",
    "Y = df['SalePrice']\n",
    "\n",
    "\n",
    "\n",
    "\n",
    "X = X.fillna(X.mean())\n",
    "\n",
    "\n",
    "\n",
    "model = XGBRegressor(n_estimators = 100, learning_rate = 0.1, random_state = 42)\n",
    "\n",
    "\n",
    "\n",
    "\n",
    "scores = cross_val_score(model, X, Y, cv = 5, scoring = 'neg_mean_squared_error')\n",
    "mse_scores = -scores\n",
    "print(\"Mean MSE from Cross-Validation :\", mse_scores_mean())\n",
    "\n",
    "\n",
    "\n",
    "model.fit(X, Y)\n",
    "predictions = model.predict(X)\n",
    "print(\"Sample Predictions :\", predictions[:5])"
   ]
  },
  {
   "cell_type": "code",
   "execution_count": null,
   "id": "fd3921e1-34ce-48cb-b8a5-228f9762cde4",
   "metadata": {},
   "outputs": [],
   "source": []
  }
 ],
 "metadata": {
  "kernelspec": {
   "display_name": "Python 3 (ipykernel)",
   "language": "python",
   "name": "python3"
  },
  "language_info": {
   "codemirror_mode": {
    "name": "ipython",
    "version": 3
   },
   "file_extension": ".py",
   "mimetype": "text/x-python",
   "name": "python",
   "nbconvert_exporter": "python",
   "pygments_lexer": "ipython3",
   "version": "3.12.7"
  }
 },
 "nbformat": 4,
 "nbformat_minor": 5
}
