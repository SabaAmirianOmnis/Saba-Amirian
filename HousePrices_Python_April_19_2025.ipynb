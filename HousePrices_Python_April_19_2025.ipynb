{
 "cells": [
  {
   "cell_type": "code",
   "execution_count": 1,
   "id": "255347fd-2db2-47ec-96ad-9697600b58a1",
   "metadata": {},
   "outputs": [
    {
     "ename": "SyntaxError",
     "evalue": "invalid syntax (1666086909.py, line 47)",
     "output_type": "error",
     "traceback": [
      "\u001b[1;36m  Cell \u001b[1;32mIn[1], line 47\u001b[1;36m\u001b[0m\n\u001b[1;33m    analyzer = Plot personallyzer = Plotter(df)\u001b[0m\n\u001b[1;37m                    ^\u001b[0m\n\u001b[1;31mSyntaxError\u001b[0m\u001b[1;31m:\u001b[0m invalid syntax\n"
     ]
    }
   ],
   "source": [
    "import pandas as pd\n",
    "import seaborn as sns\n",
    "import matplotlib.pyplot as plt\n",
    "\n",
    "\n",
    "\n",
    "\n",
    "df = pd.read_csv(r\"C:\\Users\\ASUS\\Downloads\\House Prices.csv\")\n",
    "\n",
    "\n",
    "\n",
    "\n",
    "price_by_bedrooms = df.groupby('BedroomAbvGr')['SalePrice'].mean().to_dict()\n",
    "print(\"Average SalePrice by Bedrooms :\", price_by_bedrooms)\n",
    "\n",
    "\n",
    "\n",
    "\n",
    "class DataAnalyzer:\n",
    "    def __init__(self, data):\n",
    "        self.data = data\n",
    "\n",
    "\n",
    "\n",
    "\n",
    "    def get_summary(self):\n",
    "        return self.data.describe()\n",
    "\n",
    "\n",
    "\n",
    "\n",
    "class Plotter(DataAnalyzer):\n",
    "    def __init__(self, data):\n",
    "        super().__init__(data)\n",
    "\n",
    "\n",
    "\n",
    "\n",
    "    def plot_box(self, X_col, Y_col):\n",
    "        sns.boxplot(X = X_col, Y = Y_col, data = self.data)\n",
    "        plt.title(f'Box Plot of {Y_col} by {X_col}')\n",
    "        plt.show()\n",
    "\n",
    "\n",
    "\n",
    "\n",
    "analyzer = Plot personallyzer = Plotter(df)\n",
    "print(analyzer.get_summary())\n",
    "\n",
    "\n",
    "\n",
    "\n",
    "analyzer.plot_box('OverallQual', 'SalePrice')"
   ]
  },
  {
   "cell_type": "code",
   "execution_count": null,
   "id": "57de028a-194b-43c0-98ff-6b305517f536",
   "metadata": {},
   "outputs": [],
   "source": []
  }
 ],
 "metadata": {
  "kernelspec": {
   "display_name": "Python 3 (ipykernel)",
   "language": "python",
   "name": "python3"
  },
  "language_info": {
   "codemirror_mode": {
    "name": "ipython",
    "version": 3
   },
   "file_extension": ".py",
   "mimetype": "text/x-python",
   "name": "python",
   "nbconvert_exporter": "python",
   "pygments_lexer": "ipython3",
   "version": "3.12.7"
  }
 },
 "nbformat": 4,
 "nbformat_minor": 5
}
