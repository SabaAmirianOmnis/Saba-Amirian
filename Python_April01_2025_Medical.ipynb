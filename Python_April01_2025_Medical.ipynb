{
 "cells": [
  {
   "cell_type": "code",
   "execution_count": 2,
   "id": "695d1a3b-da89-4f52-910b-e30756d36321",
   "metadata": {},
   "outputs": [
    {
     "ename": "SyntaxError",
     "evalue": "unmatched ')' (1878044054.py, line 26)",
     "output_type": "error",
     "traceback": [
      "\u001b[1;36m  Cell \u001b[1;32mIn[2], line 26\u001b[1;36m\u001b[0m\n\u001b[1;33m    high_charges = analyzer.get_high_charges(20000))\u001b[0m\n\u001b[1;37m                                                   ^\u001b[0m\n\u001b[1;31mSyntaxError\u001b[0m\u001b[1;31m:\u001b[0m unmatched ')'\n"
     ]
    }
   ],
   "source": [
    "import pandas as pd\n",
    "import matplotlib.pyplot as plt\n",
    "\n",
    "\n",
    "\n",
    "\n",
    "class MedicalAnalyzer:\n",
    "    def __init__ (self, data):\n",
    "        self.data = data\n",
    "\n",
    "\n",
    "\n",
    "\n",
    "    def get_high_charges(self, threshold):\n",
    "        return [charge for charge in self.data['charges'] if charge > threshold]\n",
    "\n",
    "\n",
    "\n",
    "\n",
    "df = pd.read_csv(r\"C:\\Users\\ASUS\\Downloads\\Medical.csv\")\n",
    "\n",
    "\n",
    "\n",
    "\n",
    "analyzer = MedicalAnalyzer(df)\n",
    "high_charges = analyzer.get_high_charges(20000))\n",
    "print(\"Charges > 20000 Count :\", len(high_charges))\n",
    "\n",
    "\n",
    "\n",
    "\n",
    "plt.hist(high_charges, bins = 10, color = 'red')\n",
    "plt.title('Distribution of Charges > 20000')\n",
    "plt.xlabel('Charges')\n",
    "plt.ylabel('Frequency')\n",
    "plt.show()"
   ]
  },
  {
   "cell_type": "code",
   "execution_count": null,
   "id": "27c54008-d405-4604-98ec-351312e7af81",
   "metadata": {},
   "outputs": [],
   "source": []
  }
 ],
 "metadata": {
  "kernelspec": {
   "display_name": "Python 3 (ipykernel)",
   "language": "python",
   "name": "python3"
  },
  "language_info": {
   "codemirror_mode": {
    "name": "ipython",
    "version": 3
   },
   "file_extension": ".py",
   "mimetype": "text/x-python",
   "name": "python",
   "nbconvert_exporter": "python",
   "pygments_lexer": "ipython3",
   "version": "3.12.7"
  }
 },
 "nbformat": 4,
 "nbformat_minor": 5
}
