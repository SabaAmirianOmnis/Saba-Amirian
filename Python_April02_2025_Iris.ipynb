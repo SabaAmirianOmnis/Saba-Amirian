{
 "cells": [
  {
   "cell_type": "code",
   "execution_count": 3,
   "id": "e2b178b4-e2d8-44d6-99f4-3a1f81ff469e",
   "metadata": {},
   "outputs": [
    {
     "ename": "AttributeError",
     "evalue": "'LinkedList' object has no attribute 'to_list'",
     "output_type": "error",
     "traceback": [
      "\u001b[1;31m---------------------------------------------------------------------------\u001b[0m",
      "\u001b[1;31mAttributeError\u001b[0m                            Traceback (most recent call last)",
      "Cell \u001b[1;32mIn[3], line 59\u001b[0m\n\u001b[0;32m     53\u001b[0m     \u001b[38;5;28;01mif\u001b[39;00m length \u001b[38;5;241m>\u001b[39m \u001b[38;5;241m5\u001b[39m:\n\u001b[0;32m     54\u001b[0m         II\u001b[38;5;241m.\u001b[39mappend(length)\n\u001b[1;32m---> 59\u001b[0m large_petals \u001b[38;5;241m=\u001b[39m II\u001b[38;5;241m.\u001b[39mto_list()\n\u001b[0;32m     60\u001b[0m \u001b[38;5;28mprint\u001b[39m(\u001b[38;5;124m\"\u001b[39m\u001b[38;5;124mPetal Lengths > 5 Count :\u001b[39m\u001b[38;5;124m\"\u001b[39m, \u001b[38;5;28mlen\u001b[39m(large_petals))\n\u001b[0;32m     65\u001b[0m plt\u001b[38;5;241m.\u001b[39mhist(large_petals, bins \u001b[38;5;241m=\u001b[39m \u001b[38;5;241m10\u001b[39m, color \u001b[38;5;241m=\u001b[39m \u001b[38;5;124m'\u001b[39m\u001b[38;5;124mpurple\u001b[39m\u001b[38;5;124m'\u001b[39m)\n",
      "\u001b[1;31mAttributeError\u001b[0m: 'LinkedList' object has no attribute 'to_list'"
     ]
    }
   ],
   "source": [
    "import pandas as pd\n",
    "import matplotlib.pyplot as plt\n",
    "\n",
    "\n",
    "\n",
    "\n",
    "class Node:\n",
    "    def __init__(self, data):\n",
    "        self.data = data\n",
    "        self.next = None\n",
    "\n",
    "\n",
    "\n",
    "\n",
    "class LinkedList:\n",
    "    def __init__(self):\n",
    "        self.head = None\n",
    "\n",
    "\n",
    "\n",
    "\n",
    "    def append(self, data):\n",
    "        new_node = Node(data)\n",
    "        if not self.head:\n",
    "            self.head = new_node\n",
    "            return\n",
    "        current = self.head\n",
    "        while current.next:\n",
    "            current = current.next\n",
    "        current.next = new_node\n",
    "\n",
    "\n",
    "\n",
    "\n",
    "    def to_lit(self):\n",
    "        result = []\n",
    "        current = self.head\n",
    "        while current:\n",
    "            result.append(current.data)\n",
    "            current = current.next\n",
    "        return result\n",
    "\n",
    "\n",
    "\n",
    "\n",
    "df = pd.read_csv(r\"C:\\Users\\ASUS\\Downloads\\Iris.csv\")\n",
    "\n",
    "\n",
    "\n",
    "\n",
    "II = LinkedList()\n",
    "for length in df['PetalLengthCm']:\n",
    "    if length > 5:\n",
    "        II.append(length)\n",
    "\n",
    "\n",
    "\n",
    "\n",
    "large_petals = II.to_list()\n",
    "print(\"Petal Lengths > 5 Count :\", len(large_petals))\n",
    "\n",
    "\n",
    "\n",
    "\n",
    "plt.hist(large_petals, bins = 10, color = 'purple')\n",
    "plt.title('Distribution of Petal Length > 5')\n",
    "plt.xlabel('Petal Length')\n",
    "plt.ylabel('Frequency')\n",
    "plt.show()"
   ]
  },
  {
   "cell_type": "code",
   "execution_count": null,
   "id": "083028ea-8854-4bfe-9ef2-93e510e65252",
   "metadata": {},
   "outputs": [],
   "source": []
  }
 ],
 "metadata": {
  "kernelspec": {
   "display_name": "Python 3 (ipykernel)",
   "language": "python",
   "name": "python3"
  },
  "language_info": {
   "codemirror_mode": {
    "name": "ipython",
    "version": 3
   },
   "file_extension": ".py",
   "mimetype": "text/x-python",
   "name": "python",
   "nbconvert_exporter": "python",
   "pygments_lexer": "ipython3",
   "version": "3.12.7"
  }
 },
 "nbformat": 4,
 "nbformat_minor": 5
}
