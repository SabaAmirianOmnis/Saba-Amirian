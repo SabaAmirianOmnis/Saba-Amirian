{
 "cells": [
  {
   "cell_type": "code",
   "execution_count": 1,
   "id": "08a11808-fd5f-4ade-812f-4d0392de769d",
   "metadata": {},
   "outputs": [
    {
     "name": "stdout",
     "output_type": "stream",
     "text": [
      "Sum is 8\n"
     ]
    }
   ],
   "source": [
    "X = 5\n",
    "Y = 3\n",
    "SUM = X + Y\n",
    "print ( \"Sum is\" , SUM )"
   ]
  },
  {
   "cell_type": "code",
   "execution_count": 2,
   "id": "7671e18a-d4e5-45a3-ab0a-ebbf17b69057",
   "metadata": {},
   "outputs": [
    {
     "name": "stdout",
     "output_type": "stream",
     "text": [
      "Result is 50\n"
     ]
    }
   ],
   "source": [
    "X = 10\n",
    "Y = 5\n",
    "RESULT = X * Y\n",
    "print ( \"Result is\" , RESULT )"
   ]
  },
  {
   "cell_type": "code",
   "execution_count": 3,
   "id": "2fcaf956-a1fe-4581-b7ae-bcc72d0078b0",
   "metadata": {},
   "outputs": [
    {
     "name": "stdout",
     "output_type": "stream",
     "text": [
      "Average: 25.0\n"
     ]
    }
   ],
   "source": [
    "NUMBERS = [ 10 , 20 , 30 , 40 ]\n",
    "AVERAGE = sum ( NUMBERS ) / len ( NUMBERS )\n",
    "print ( \"Average:\" , AVERAGE )"
   ]
  },
  {
   "cell_type": "code",
   "execution_count": null,
   "id": "d6ada3a6-b7d5-4219-9992-d093ea00cafc",
   "metadata": {},
   "outputs": [],
   "source": []
  }
 ],
 "metadata": {
  "kernelspec": {
   "display_name": "Python 3 (ipykernel)",
   "language": "python",
   "name": "python3"
  },
  "language_info": {
   "codemirror_mode": {
    "name": "ipython",
    "version": 3
   },
   "file_extension": ".py",
   "mimetype": "text/x-python",
   "name": "python",
   "nbconvert_exporter": "python",
   "pygments_lexer": "ipython3",
   "version": "3.12.7"
  }
 },
 "nbformat": 4,
 "nbformat_minor": 5
}
