{
 "cells": [
  {
   "cell_type": "code",
   "execution_count": 1,
   "id": "d09c55d8-6453-41c5-8513-852a59cad2b5",
   "metadata": {},
   "outputs": [
    {
     "name": "stdout",
     "output_type": "stream",
     "text": [
      "The average score is:70.8\n"
     ]
    }
   ],
   "source": [
    "def calculate_average(numbers):\n",
    "    if len(numbers) == 0:\n",
    "        return 0\n",
    "    return sum(numbers) / len(numbers)\n",
    "\n",
    "\n",
    "\n",
    "scores = [72, 69, 90, 47, 76]\n",
    "print(f\"The average score is:{calculate_average(scores)}\")"
   ]
  },
  {
   "cell_type": "code",
   "execution_count": 2,
   "id": "57584a00-04d7-4bc1-8b6d-481774e3b286",
   "metadata": {},
   "outputs": [
    {
     "name": "stdout",
     "output_type": "stream",
     "text": [
      "{'Alice': 72, 'Bob': 69, 'Charlie': 90}\n"
     ]
    }
   ],
   "source": [
    "names = [\"Alice\", \"Bob\", \"Charlie\"]\n",
    "math_scores = [72, 69, 90]\n",
    "\n",
    "\n",
    "\n",
    "student_dict = dict(zip(names, math_scores))\n",
    "print(student_dict)"
   ]
  },
  {
   "cell_type": "code",
   "execution_count": 3,
   "id": "ca87d4e8-7b79-43ae-9c34-9879bf408e63",
   "metadata": {},
   "outputs": [
    {
     "name": "stdout",
     "output_type": "stream",
     "text": [
      "Average from dictionary:77.0\n"
     ]
    }
   ],
   "source": [
    "def average_from_dict(student_dict):\n",
    "    scores = list(student_dict.values())\n",
    "    return calculate_average(scores)\n",
    "\n",
    "\n",
    "\n",
    "print(f\"Average from dictionary:{average_from_dict(student_dict)}\")"
   ]
  },
  {
   "cell_type": "code",
   "execution_count": null,
   "id": "c7bcfb39-1b10-4e99-8c35-9d52e6e587de",
   "metadata": {},
   "outputs": [],
   "source": []
  }
 ],
 "metadata": {
  "kernelspec": {
   "display_name": "Python 3 (ipykernel)",
   "language": "python",
   "name": "python3"
  },
  "language_info": {
   "codemirror_mode": {
    "name": "ipython",
    "version": 3
   },
   "file_extension": ".py",
   "mimetype": "text/x-python",
   "name": "python",
   "nbconvert_exporter": "python",
   "pygments_lexer": "ipython3",
   "version": "3.12.7"
  }
 },
 "nbformat": 4,
 "nbformat_minor": 5
}
