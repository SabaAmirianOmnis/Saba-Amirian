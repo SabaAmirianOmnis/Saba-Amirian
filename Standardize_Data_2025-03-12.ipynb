{
 "cells": [
  {
   "cell_type": "code",
   "execution_count": 1,
   "id": "84291205-1f5d-4b9d-896f-ab20bd32143e",
   "metadata": {},
   "outputs": [
    {
     "name": "stdout",
     "output_type": "stream",
     "text": [
      "Original DataFrame:\n",
      "            Subject  Time(Minutes)  Score\n",
      "0              Math         120.75     90\n",
      "1             Excel          26.02     75\n",
      "2            Python          12.25     80\n",
      "3  Machine Learning          18.63     85\n",
      "\n",
      "Standardized DataFrame (Z-score):\n",
      "   Time(Minutes)     score\n",
      "0       1.721561  1.341641\n",
      "1      -0.414787 -1.341641\n",
      "2      -0.725328 -0.447214\n",
      "3      -0.581446  0.447214\n",
      "\n",
      "Normalized DataFrame (Min-Max):\n",
      "   Time(Minutes)     Score\n",
      "0       1.000000  1.000000\n",
      "1       0.126912  0.000000\n",
      "2       0.000000  0.333333\n",
      "3       0.058802  0.666667\n"
     ]
    }
   ],
   "source": [
    "import pandas as pd\n",
    "from sklearn.preprocessing import StandardScaler,MinMaxScaler\n",
    "\n",
    "\n",
    "\n",
    "data = {'Subject':['Math','Excel','Python','Machine Learning'],'Time(Minutes)':[120.75,26.02,12.25,18.63],'Score':[90,75,80,85]}\n",
    "\n",
    "\n",
    "df = pd.DataFrame(data)\n",
    "\n",
    "\n",
    "\n",
    "scaler = StandardScaler()\n",
    "standardized_data = scaler.fit_transform(df[['Time(Minutes)','Score']])\n",
    "df_standardized = pd.DataFrame(standardized_data,columns = ['Time(Minutes)','score'])\n",
    "\n",
    "\n",
    "\n",
    "min_max_scaler = MinMaxScaler()\n",
    "normalized_data = min_max_scaler.fit_transform(df[['Time(Minutes)','Score']])\n",
    "df_normalized = pd.DataFrame(normalized_data,columns = ['Time(Minutes)','Score'])\n",
    "\n",
    "\n",
    "\n",
    "print( \"Original DataFrame:\")\n",
    "print(df)\n",
    "print(\"\\nStandardized DataFrame (Z-score):\")\n",
    "print(df_standardized)\n",
    "print(\"\\nNormalized DataFrame (Min-Max):\")\n",
    "print(df_normalized)"
   ]
  },
  {
   "cell_type": "code",
   "execution_count": null,
   "id": "82c0ed2a-2cf7-4c92-82b0-c72bd8143034",
   "metadata": {},
   "outputs": [],
   "source": []
  }
 ],
 "metadata": {
  "kernelspec": {
   "display_name": "Python 3 (ipykernel)",
   "language": "python",
   "name": "python3"
  },
  "language_info": {
   "codemirror_mode": {
    "name": "ipython",
    "version": 3
   },
   "file_extension": ".py",
   "mimetype": "text/x-python",
   "name": "python",
   "nbconvert_exporter": "python",
   "pygments_lexer": "ipython3",
   "version": "3.12.7"
  }
 },
 "nbformat": 4,
 "nbformat_minor": 5
}
