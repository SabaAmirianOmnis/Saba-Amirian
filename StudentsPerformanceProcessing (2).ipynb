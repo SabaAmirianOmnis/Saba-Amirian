{
 "cells": [
  {
   "cell_type": "code",
   "execution_count": 1,
   "id": "82367211-8a19-42e3-9e82-411f326a538e",
   "metadata": {},
   "outputs": [
    {
     "name": "stdout",
     "output_type": "stream",
     "text": [
      "Student : Student 1\n",
      "Average Score :  72.67\n",
      "Status : Pass\n"
     ]
    }
   ],
   "source": [
    "import pandas as pd\n",
    "\n",
    "\n",
    "\n",
    "\n",
    "class Student:\n",
    "    def __init__(self, name, math_score, reading_score, writing_score):\n",
    "        self.name = name\n",
    "        self.math_score = math_score\n",
    "        self.reading_score = reading_score\n",
    "        self.writing_score = writing_score\n",
    "\n",
    "\n",
    "\n",
    "\n",
    "    def average_score(self):\n",
    "        return (self.math_score + self.reading_score + self.writing_score) / 3\n",
    "\n",
    "\n",
    "\n",
    "\n",
    "    def status(self):\n",
    "        avg = self.average_score()\n",
    "        if avg >= 60:\n",
    "            return \"Pass\"\n",
    "        else:\n",
    "            return \"Fail\"\n",
    "\n",
    "\n",
    "\n",
    "\n",
    "df = pd.read_csv(r\"C:\\Users\\ASUS\\Downloads\\StudentsPerformance.csv\")\n",
    "\n",
    "\n",
    "\n",
    "\n",
    "student_data = df.iloc[0]\n",
    "student = Student(name = \"Student 1\", math_score = student_data['math score'], reading_score = student_data['reading score'], writing_score = student_data['writing score'])\n",
    "\n",
    "\n",
    "\n",
    "\n",
    "print(f\"Student : {student.name}\")\n",
    "print(f\"Average Score : {student.average_score() : .2f}\")\n",
    "print(f\"Status : {student.status()}\")"
   ]
  },
  {
   "cell_type": "code",
   "execution_count": null,
   "id": "613439ab-1486-4f4e-b74d-e1f8f172a558",
   "metadata": {},
   "outputs": [],
   "source": []
  }
 ],
 "metadata": {
  "kernelspec": {
   "display_name": "Python 3 (ipykernel)",
   "language": "python",
   "name": "python3"
  },
  "language_info": {
   "codemirror_mode": {
    "name": "ipython",
    "version": 3
   },
   "file_extension": ".py",
   "mimetype": "text/x-python",
   "name": "python",
   "nbconvert_exporter": "python",
   "pygments_lexer": "ipython3",
   "version": "3.12.7"
  }
 },
 "nbformat": 4,
 "nbformat_minor": 5
}
