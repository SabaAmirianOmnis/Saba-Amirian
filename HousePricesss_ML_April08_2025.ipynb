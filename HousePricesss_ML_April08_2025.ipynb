{
 "cells": [
  {
   "cell_type": "code",
   "execution_count": 1,
   "id": "9762675e-1f4f-48d2-9c93-2309c0b2367c",
   "metadata": {},
   "outputs": [],
   "source": [
    "import pandas as pd\n",
    "import numpy as np\n",
    "from sklearn.model_selection import train_test_split\n",
    "from sklearn.linear_model import LogisticRegression\n",
    "from sklearn.ensemble import RandomForestRegressor\n",
    "from sklearn.metrics import mean_squared_error"
   ]
  },
  {
   "cell_type": "code",
   "execution_count": 3,
   "id": "90dcbc8e-7797-42d3-a94e-28dafdbbdd85",
   "metadata": {},
   "outputs": [],
   "source": [
    "df = pd.read_csv(r\"C:\\Users\\ASUS\\Downloads\\House Prices.csv\")\n",
    "\n",
    "\n",
    "\n",
    "\n",
    "X = df[['OverallQual', 'GrLivArea', 'TotalBsmtSF', 'BedroomAbvGr', 'FullBath', 'YearBuilt']]\n",
    "Y = df['SalePrice']\n",
    "\n",
    "\n",
    "\n",
    "\n",
    "df['Price_Category'] = (df['SalePrice'] > 200000).astype(int)\n",
    "Y_binary = df['Price_Category']\n",
    "\n",
    "\n",
    "\n",
    "\n",
    "X = X.fillna(X.mean())\n",
    "\n",
    "\n",
    "\n",
    "\n",
    "X_train, X_test, Y_train, Y_test = train_test_split(X, Y, test_size = 0.2, random_state = 42)\n",
    "X_train_bin, X_test_bin, Y_train_bin, Y_test_bin = train_test_split(X, Y_binary, test_size = 0.2, random_state = 42)"
   ]
  },
  {
   "cell_type": "code",
   "execution_count": 4,
   "id": "570a2a8e-1058-4f12-bcc0-86eb792dab12",
   "metadata": {},
   "outputs": [
    {
     "name": "stdout",
     "output_type": "stream",
     "text": [
      "Logisstic Regresssion Accuracy : 0.92\n"
     ]
    }
   ],
   "source": [
    "log_reg = LogisticRegression(random_state = 42, max_iter = 1000)\n",
    "log_reg.fit(X_train_bin, Y_train_bin)\n",
    "\n",
    "\n",
    "\n",
    "\n",
    "Y_pred_bin = log_reg.predict(X_test_bin)\n",
    "\n",
    "\n",
    "\n",
    "\n",
    "accuracy = log_reg.score(X_test_bin, Y_test_bin)\n",
    "print(f\"Logisstic Regresssion Accuracy : {accuracy :.2f}\")"
   ]
  },
  {
   "cell_type": "code",
   "execution_count": 7,
   "id": "2b59f22d-e4cd-46a4-b53e-b34ac8b00f39",
   "metadata": {},
   "outputs": [
    {
     "name": "stdout",
     "output_type": "stream",
     "text": [
      "Random Forest MSE : 890412967.24\n"
     ]
    }
   ],
   "source": [
    "rf = RandomForestRegressor(n_estimators = 100, random_state = 42)\n",
    "rf.fit(X_train, Y_train)\n",
    "\n",
    "\n",
    "\n",
    "\n",
    "Y_pred = rf.predict(X_test)\n",
    "\n",
    "\n",
    "\n",
    "\n",
    "mse = mean_squared_error(Y_test, Y_pred)\n",
    "print(f\"Random Forest MSE : {mse :.2f}\")"
   ]
  },
  {
   "cell_type": "code",
   "execution_count": null,
   "id": "188e4c68-bda9-437f-8087-1417da77b590",
   "metadata": {},
   "outputs": [],
   "source": [
    "from sklearn.linear_model import LinearRegression\n",
    "\n",
    "\n",
    "\n",
    "\n",
    "lin_reg = LinearRegression()\n",
    "lin_reg.fit(X_train, Y_train)\n",
    "\n",
    "\n",
    "\n",
    "\n",
    "Y_pred_lin = lin_reg.predict(X_test)\n",
    "\n",
    "\n",
    "\n",
    "\n",
    "mse_lin = mean_squared_error"
   ]
  }
 ],
 "metadata": {
  "kernelspec": {
   "display_name": "Python 3 (ipykernel)",
   "language": "python",
   "name": "python3"
  },
  "language_info": {
   "codemirror_mode": {
    "name": "ipython",
    "version": 3
   },
   "file_extension": ".py",
   "mimetype": "text/x-python",
   "name": "python",
   "nbconvert_exporter": "python",
   "pygments_lexer": "ipython3",
   "version": "3.12.7"
  }
 },
 "nbformat": 4,
 "nbformat_minor": 5
}
