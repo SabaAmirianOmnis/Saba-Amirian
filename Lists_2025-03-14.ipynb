{
 "cells": [
  {
   "cell_type": "code",
   "execution_count": 1,
   "id": "6bb458fc-60cd-47a8-a4d3-a73e368256ce",
   "metadata": {},
   "outputs": [
    {
     "name": "stdout",
     "output_type": "stream",
     "text": [
      "Original DataFrame:\n",
      "            Subject  Time (Minutes)\n",
      "0              Math          107.90\n",
      "1             Excel           32.55\n",
      "2            Python           19.80\n",
      "3  Machine Learning           18.83\n",
      "\n",
      "Sorted Study Times(Descending): [107.9, 32.55, 19.8, 18.83]\n",
      "Updated Study Times (with Language): [107.9, 32.55, 19.8, 18.83, 15.0]\n"
     ]
    }
   ],
   "source": [
    "import pandas as pd\n",
    "\n",
    "\n",
    "\n",
    "data = {'Subject':['Math','Excel','Python','Machine Learning'],'Time (Minutes)':[107.9,32.55,19.8,18.83]}\n",
    "\n",
    "\n",
    "\n",
    "df = pd.DataFrame(data)\n",
    "\n",
    "\n",
    "\n",
    "study_times = df['Time (Minutes)'].tolist()\n",
    "\n",
    "\n",
    "\n",
    "study_times_sorted = sorted(study_times, reverse=True)\n",
    "\n",
    "\n",
    "\n",
    "study_times.append(15.0)\n",
    "\n",
    "\n",
    "\n",
    "print(\"Original DataFrame:\")\n",
    "print(df)\n",
    "print(\"\\nSorted Study Times(Descending):\",study_times_sorted)\n",
    "print(\"Updated Study Times (with Language):\",study_times)"
   ]
  },
  {
   "cell_type": "code",
   "execution_count": null,
   "id": "056e2af0-6426-4bda-b4a2-c03e526c5cfb",
   "metadata": {},
   "outputs": [],
   "source": []
  }
 ],
 "metadata": {
  "kernelspec": {
   "display_name": "Python 3 (ipykernel)",
   "language": "python",
   "name": "python3"
  },
  "language_info": {
   "codemirror_mode": {
    "name": "ipython",
    "version": 3
   },
   "file_extension": ".py",
   "mimetype": "text/x-python",
   "name": "python",
   "nbconvert_exporter": "python",
   "pygments_lexer": "ipython3",
   "version": "3.12.7"
  }
 },
 "nbformat": 4,
 "nbformat_minor": 5
}
