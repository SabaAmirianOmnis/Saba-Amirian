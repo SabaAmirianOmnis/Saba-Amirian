{
 "cells": [
  {
   "cell_type": "code",
   "execution_count": null,
   "id": "28bb8abd-12d2-40b6-8b13-6d50bc417411",
   "metadata": {},
   "outputs": [],
   "source": [
    "import pandas as pd\n",
    "import matplotlib.pyplot as plt\n",
    "\n",
    "\n",
    "\n",
    "\n",
    "class IrisAnalyzer:\n",
    "    def __init__(self, data):\n",
    "        self.data = data\n",
    "\n",
    "\n",
    "\n",
    "\n",
    "    def get_large_petals(self, threshold):\n",
    "        return [lrngth for length in self.data['PetalLengthCm'] if length > threshold]\n",
    "\n",
    "\n",
    "\n",
    "\n",
    "df = pd.read_csv(r\"C:\\Users\\ASUS\\Downloads\\Iris.csv\")\n",
    "\n",
    "\n",
    "\n",
    "\n",
    "analyzer = IrisAnalyzer(df)\n",
    "large_petals = analyzer.get_large_petals(5)\n",
    "print(\"Petal Lengths > 5 Count :\", len(large_petals))\n",
    "\n",
    "\n",
    "\n",
    "\n",
    "plt.hist(large_petals, bins = 10, color = 'purple')\n",
    "plt.title('Ditribution of Petal Length > 5')\n",
    "plt.xlabel('Petal Leng"
   ]
  }
 ],
 "metadata": {
  "kernelspec": {
   "display_name": "Python 3 (ipykernel)",
   "language": "python",
   "name": "python3"
  },
  "language_info": {
   "codemirror_mode": {
    "name": "ipython",
    "version": 3
   },
   "file_extension": ".py",
   "mimetype": "text/x-python",
   "name": "python",
   "nbconvert_exporter": "python",
   "pygments_lexer": "ipython3",
   "version": "3.12.7"
  }
 },
 "nbformat": 4,
 "nbformat_minor": 5
}
