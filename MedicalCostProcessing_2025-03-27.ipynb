{
 "cells": [
  {
   "cell_type": "code",
   "execution_count": 1,
   "id": "d282eec7-0f00-4461-a288-6b1a467072c0",
   "metadata": {},
   "outputs": [
    {
     "name": "stdout",
     "output_type": "stream",
     "text": [
      "Insured Person Info :\n",
      "Age : 30, BMI : 25.5, Smoker : Yes, Charges : $ 20000.00\n"
     ]
    }
   ],
   "source": [
    "class Person:\n",
    "    def __init__(self, age, bmi):\n",
    "        self.age = age\n",
    "        self.bmi = bmi\n",
    "\n",
    "\n",
    "\n",
    "\n",
    "    def info(self):\n",
    "        return f\"Age : {self.age}, BMI : {self.bmi}\"\n",
    "\n",
    "\n",
    "\n",
    "\n",
    "class InsuredPerson(Person):\n",
    "    def __init__(self, age, bmi, smoker, charges):\n",
    "        super().__init__(age, bmi)\n",
    "        self.smoker = smoker\n",
    "        self.charges = charges\n",
    "\n",
    "\n",
    "\n",
    "\n",
    "    def info(self):\n",
    "        base_info = super().info()\n",
    "        return f\"{base_info}, Smoker : {'Yes' if self.smoker else 'No'}, Charges : ${self.charges : .2f}\"\n",
    "\n",
    "\n",
    "\n",
    "\n",
    "person = InsuredPerson(age = 30, bmi = 25.5, smoker = 1, charges = 20000)\n",
    "\n",
    "\n",
    "\n",
    "\n",
    "print(\"Insured Person Info :\")\n",
    "print(person.info())"
   ]
  },
  {
   "cell_type": "code",
   "execution_count": null,
   "id": "ab591316-9638-4122-a84a-7c5bea828763",
   "metadata": {},
   "outputs": [],
   "source": []
  }
 ],
 "metadata": {
  "kernelspec": {
   "display_name": "Python 3 (ipykernel)",
   "language": "python",
   "name": "python3"
  },
  "language_info": {
   "codemirror_mode": {
    "name": "ipython",
    "version": 3
   },
   "file_extension": ".py",
   "mimetype": "text/x-python",
   "name": "python",
   "nbconvert_exporter": "python",
   "pygments_lexer": "ipython3",
   "version": "3.12.7"
  }
 },
 "nbformat": 4,
 "nbformat_minor": 5
}
