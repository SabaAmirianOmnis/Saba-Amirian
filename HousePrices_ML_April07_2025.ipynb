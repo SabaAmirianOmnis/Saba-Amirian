{
 "cells": [
  {
   "cell_type": "code",
   "execution_count": 1,
   "id": "4424ab64-33f9-42ca-856b-9c088d62c648",
   "metadata": {},
   "outputs": [
    {
     "ename": "SyntaxError",
     "evalue": "unmatched ')' (568725580.py, line 67)",
     "output_type": "error",
     "traceback": [
      "\u001b[1;36m  Cell \u001b[1;32mIn[1], line 67\u001b[1;36m\u001b[0m\n\u001b[1;33m    plt.legend())\u001b[0m\n\u001b[1;37m                ^\u001b[0m\n\u001b[1;31mSyntaxError\u001b[0m\u001b[1;31m:\u001b[0m unmatched ')'\n"
     ]
    }
   ],
   "source": [
    "import pandas as pd\n",
    "import matplotlib.pyplot as plt\n",
    "from sklearn.model_selection import train_tesst_split\n",
    "from sklearn.linear_model import LinearRegression\n",
    "from sklearn.neighbors import KNeighborsRegressor\n",
    "from sklearn.tree import DeciionTreeRegressor\n",
    "from sklearn.metrics import mean_squared_error\n",
    "\n",
    "\n",
    "\n",
    "\n",
    "df = pd.read_csv(r\"C:\\Users\\ASUS\\Downloads\\Housse Prices.csv\")\n",
    "\n",
    "\n",
    "\n",
    "\n",
    "features = [\"LotArea\", \"OverallQual\", \"YearBuilt\"]\n",
    "X = df[features]\n",
    "Y = df[\"SalePrice\"]\n",
    "\n",
    "\n",
    "\n",
    "\n",
    "X_train, X_test, Y_train, Y_test = train_test_split(X, Y, test_size = 0.2, random_state = 42)\n",
    "\n",
    "\n",
    "\n",
    "\n",
    "lr_model = LinearRegression()\n",
    "lr_model.fit(X_train, Y_train)\n",
    "lr_pred = lr_model.predict(X_test)\n",
    "lr_mse = mean_squared_error(Y_test, lr_pred)\n",
    "print(\"Linear Regression MSE :\", lr_mse)\n",
    "\n",
    "\n",
    "\n",
    "\n",
    "knn_model = KNeighborsRegressor(n_neighbors = 5)\n",
    "knn_model.fit(X_train, Y_train)\n",
    "knn_pred = knn_model.predict(X_test)\n",
    "knn_mse = mean_squared_error(Y_test, knn_pred)\n",
    "\n",
    "\n",
    "\n",
    "\n",
    "dt_model = DecisionTreeRegressor(random_state = 42)\n",
    "dt_model.fit(X_train, Y_train)\n",
    "dt_pred = dt_model.predict(X_test)\n",
    "dt_mse = mean_squared_error(Y_test, dt_pred)\n",
    "print(\"Decision Tree MSE :\", dt_mse)\n",
    "\n",
    "\n",
    "\n",
    "\n",
    "plt.figure(figize = (10, 6))\n",
    "plt.scatter(Y_test, lr_pred, color = \"blue\", alpha = 0.5, label = \"Linear Regression\")\n",
    "plt.scatter(Y_test, knn_pred, color = \"orange\", alpha = 0.5, label = \"KNN\")\n",
    "plt.scatter(Y_test, dt_pred, color = \"green\", alpha = 0.5, label = \"Decision Tree\")\n",
    "\n",
    "\n",
    "\n",
    "\n",
    "plt.plot([Y_test.mean(), Y_test.max()], [Y_test.mean(), Y_test.max()], \"r--\", lw = 2)\n",
    "plt.title(\"Actual VS Predicted SalePrice\")\n",
    "plt.xlabel(\"Actual SalePrice ($)\")\n",
    "plt.ylabel(\"Predicted SalePrice ($)\")\n",
    "plt.legend())\n",
    "plt.savefig(\"HousePrices_ModelComparison_April07_2025.png\")\n",
    "plt.show()"
   ]
  },
  {
   "cell_type": "code",
   "execution_count": null,
   "id": "37925217-5ffe-4153-b887-090c78628718",
   "metadata": {},
   "outputs": [],
   "source": []
  }
 ],
 "metadata": {
  "kernelspec": {
   "display_name": "Python 3 (ipykernel)",
   "language": "python",
   "name": "python3"
  },
  "language_info": {
   "codemirror_mode": {
    "name": "ipython",
    "version": 3
   },
   "file_extension": ".py",
   "mimetype": "text/x-python",
   "name": "python",
   "nbconvert_exporter": "python",
   "pygments_lexer": "ipython3",
   "version": "3.12.7"
  }
 },
 "nbformat": 4,
 "nbformat_minor": 5
}
