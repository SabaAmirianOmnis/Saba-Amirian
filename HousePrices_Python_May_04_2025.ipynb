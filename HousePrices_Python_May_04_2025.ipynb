{
 "cells": [
  {
   "cell_type": "code",
   "execution_count": null,
   "id": "a6b154a9-9b90-4758-b9e6-43e56b0deb3d",
   "metadata": {},
   "outputs": [],
   "source": [
    "import pandas as pd\n",
    "import json\n",
    "\n",
    "\n",
    "\n",
    "df = pd.read_csv(r\"C:\\Users\\ASUS\\Downloads\\House Prices.csv\")\n",
    "\n",
    "\n",
    "\n",
    "\n",
    "df_subset = df[['LotArea', 'YearBuilt', 'SalePrice']].head(5)\n",
    "\n",
    "\n",
    "\n",
    "\n",
    "data_dict = df_subset.to_dict()\n",
    "\n",
    "\n",
    "\n",
    "\n",
    "with open('house_prices_subset.json', 'w')as file:\n",
    "    json.dump(data_dict, file, indent = 4)\n",
    "\n",
    "\n",
    "\n",
    "\n",
    "with open('house_prices_subset.json', 'r')as file:\n",
    "    loded_data = json"
   ]
  }
 ],
 "metadata": {
  "kernelspec": {
   "display_name": "Python 3 (ipykernel)",
   "language": "python",
   "name": "python3"
  },
  "language_info": {
   "codemirror_mode": {
    "name": "ipython",
    "version": 3
   },
   "file_extension": ".py",
   "mimetype": "text/x-python",
   "name": "python",
   "nbconvert_exporter": "python",
   "pygments_lexer": "ipython3",
   "version": "3.12.7"
  }
 },
 "nbformat": 4,
 "nbformat_minor": 5
}
