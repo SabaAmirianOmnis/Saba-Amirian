{
 "cells": [
  {
   "cell_type": "code",
   "execution_count": null,
   "id": "cd286609-d10b-4b4e-98e4-fa1d71aacc8b",
   "metadata": {},
   "outputs": [],
   "source": [
    "import pandas as pd\n",
    "import matplotlib.pyplot as plt\n",
    "\n",
    "\n",
    "\n",
    "df = pd.read_csv(r\"C:\\Users\\ASUS\\Downloads\\StudentsPerformance.csv\")\n",
    "\n",
    "\n",
    "\n",
    "avg_scores_by_gender = df.groupby('gender')[['math score', 'reading score', 'writing score']].mean()\n",
    "\n",
    "\n",
    "\n",
    "avg_scores_by_gender.plot(kind = 'bar', figsize = (8, 6))\n",
    "plt.title('Average Scores by Gender')\n",
    "plt.xlabel('Gender')\n",
    "p"
   ]
  }
 ],
 "metadata": {
  "kernelspec": {
   "display_name": "Python 3 (ipykernel)",
   "language": "python",
   "name": "python3"
  },
  "language_info": {
   "codemirror_mode": {
    "name": "ipython",
    "version": 3
   },
   "file_extension": ".py",
   "mimetype": "text/x-python",
   "name": "python",
   "nbconvert_exporter": "python",
   "pygments_lexer": "ipython3",
   "version": "3.12.7"
  }
 },
 "nbformat": 4,
 "nbformat_minor": 5
}
