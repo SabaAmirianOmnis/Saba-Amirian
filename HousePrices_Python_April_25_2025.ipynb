{
 "cells": [
  {
   "cell_type": "code",
   "execution_count": null,
   "id": "84c90cc5-61f3-4b29-be7b-e96a70d6521d",
   "metadata": {},
   "outputs": [],
   "source": [
    "import pandas as pd\n",
    "import re\n",
    "import matplotlib.pyplot as plt\n",
    "\n",
    "\n",
    "\n",
    "\n",
    "df = pd.read_csv(r\"C:\\Users\\ASUS\\Downloads\\House Prices.csv\")\n",
    "\n",
    "\n",
    "\n",
    "\n",
    "pattern = r'^N\\w+'\n",
    "neighborhoods = df['Neighborhood'].dropna().apply(lambda x : re.match(pattern, x)is not None)\n",
    "\n",
    "\n",
    "\n",
    "\n",
    "count_n = neighborhoods.sum()\n",
    "print(f\"تعداد محله هایی که با N شروع میشن : {count_n}\")\n",
    "\n",
    "\n",
    "\n",
    "\n",
    "plt.bar(['Starting with N', 'Others'], [count_n, len(neighborhoods) - count_n])\n",
    "plt.title('Neighborhoods Starting with N')\n",
    "plt.ylabel('Count')\n",
    "plt.savefig('neighborhoods_n_Apr25_2025.png')\n",
    "plt.show()"
   ]
  },
  {
   "cell_type": "code",
   "execution_count": null,
   "id": "564be294-1100-4036-8758-dc5858b65915",
   "metadata": {},
   "outputs": [],
   "source": []
  }
 ],
 "metadata": {
  "kernelspec": {
   "display_name": "Python 3 (ipykernel)",
   "language": "python",
   "name": "python3"
  },
  "language_info": {
   "codemirror_mode": {
    "name": "ipython",
    "version": 3
   },
   "file_extension": ".py",
   "mimetype": "text/x-python",
   "name": "python",
   "nbconvert_exporter": "python",
   "pygments_lexer": "ipython3",
   "version": "3.12.7"
  }
 },
 "nbformat": 4,
 "nbformat_minor": 5
}
