{
 "cells": [
  {
   "cell_type": "code",
   "execution_count": 1,
   "id": "2324ec51-b355-48dd-b8a2-686861083149",
   "metadata": {},
   "outputs": [
    {
     "name": "stdout",
     "output_type": "stream",
     "text": [
      "Linked List of Charges :\n",
      "10000->15000->20000->None\n"
     ]
    }
   ],
   "source": [
    "class Node:\n",
    "    def __init__ (self, data):\n",
    "        self.data = data\n",
    "        self.next = None\n",
    "\n",
    "\n",
    "\n",
    "\n",
    "class LinkedList:\n",
    "    def __init__ (self):\n",
    "        self.head = None\n",
    "\n",
    "\n",
    "\n",
    "\n",
    "    def append(self, data):\n",
    "        new_node = Node(data)\n",
    "        if not self.head:\n",
    "            self.head = new_node\n",
    "            return\n",
    "        current = self.head\n",
    "        while current.next:\n",
    "            current = current.next\n",
    "        current.next = new_node\n",
    "\n",
    "\n",
    "\n",
    "\n",
    "    def display(self):\n",
    "        current = self.head\n",
    "        while current:\n",
    "            print(current.data, end = \"->\")\n",
    "            current = current.next\n",
    "        print(\"None\")\n",
    "\n",
    "\n",
    "\n",
    "\n",
    "charges_list = LinkedList()\n",
    "charges = [10000, 15000, 20000]\n",
    "for charge in charges:\n",
    "    charges_list.append(charge)\n",
    "\n",
    "\n",
    "\n",
    "\n",
    "print(\"Linked List of Charges :\")\n",
    "charges_list.display()"
   ]
  },
  {
   "cell_type": "code",
   "execution_count": null,
   "id": "77e9507d-3436-4e14-adc5-705a0c5a5d48",
   "metadata": {},
   "outputs": [],
   "source": []
  }
 ],
 "metadata": {
  "kernelspec": {
   "display_name": "Python 3 (ipykernel)",
   "language": "python",
   "name": "python3"
  },
  "language_info": {
   "codemirror_mode": {
    "name": "ipython",
    "version": 3
   },
   "file_extension": ".py",
   "mimetype": "text/x-python",
   "name": "python",
   "nbconvert_exporter": "python",
   "pygments_lexer": "ipython3",
   "version": "3.12.7"
  }
 },
 "nbformat": 4,
 "nbformat_minor": 5
}
