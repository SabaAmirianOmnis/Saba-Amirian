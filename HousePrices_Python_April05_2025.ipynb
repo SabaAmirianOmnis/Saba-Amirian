{
 "cells": [
  {
   "cell_type": "code",
   "execution_count": null,
   "id": "69a2b7e0-26cd-40ec-9b6a-2271e1784465",
   "metadata": {},
   "outputs": [],
   "source": [
    "import pandas as pd\n",
    "import matplotlib.pyplot as plt\n",
    "import seaborn as sns\n",
    "\n",
    "\n",
    "\n",
    "\n",
    "df = pd.read_csv(r\"C:\\Users\\ASUS\\Downloads\\House Prices.csv\")\n",
    "\n",
    "\n",
    "\n",
    "\n",
    "df = df[[\"LotArea\", \"OverallQual\", \"YearBuilt\", \"SalePrice\"]]\n",
    "\n",
    "\n",
    "\n",
    "\n",
    "print(\"Average SalePrice :\", df[\"SalePrice\"].mean())\n",
    "print(\"Avearge LotArea :\", df[\"LotArea\"].mean())\n",
    "print(\"Average OverallQual :\", df[\"OverallQual\"].mean())\n",
    "\n",
    "\n",
    "\n",
    "\n",
    "print(\"\\nCorrelation Matrix :\")\n",
    "print(df.corr())\n",
    "\n",
    "\n",
    "\n",
    "\n",
    "plt.figure(figsize = (8, 5))\n",
    "sns.heatmap(df.corr(), annot = True, cmap = \"coolwarm\", fmt = \".2f\")\n",
    "plt.title(\"Correlation Heatmap\")\n",
    "plt.savefig(\"HousePrices_Heatmap_April05_2025.png\")\n",
    "plt.show()\n",
    "\n",
    "\n",
    "\n",
    "\n",
    "plt.figure(figsize = (8, 5))\n",
    "plt.scatter(df[\"LotArea\"], df[\"SalePrice\"], color = \"blue\", alpha = 0.5)\n",
    "plt.title(\"SalePrice VS LotArea\")\n",
    "plt.xlabel(\"LotArea (sq ft)\")\n",
    "plt.ylabel(\"SalePrice ("
   ]
  }
 ],
 "metadata": {
  "kernelspec": {
   "display_name": "Python 3 (ipykernel)",
   "language": "python",
   "name": "python3"
  },
  "language_info": {
   "codemirror_mode": {
    "name": "ipython",
    "version": 3
   },
   "file_extension": ".py",
   "mimetype": "text/x-python",
   "name": "python",
   "nbconvert_exporter": "python",
   "pygments_lexer": "ipython3",
   "version": "3.12.7"
  }
 },
 "nbformat": 4,
 "nbformat_minor": 5
}
