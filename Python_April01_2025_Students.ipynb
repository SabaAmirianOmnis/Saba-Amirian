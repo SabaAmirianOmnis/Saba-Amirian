{
 "cells": [
  {
   "cell_type": "code",
   "execution_count": null,
   "id": "40a951f0-7859-4799-b05b-58c37b0ddb32",
   "metadata": {},
   "outputs": [],
   "source": [
    "import pandas as pd\n",
    "import matplotlib.pyplot as plt\n",
    "\n",
    "\n",
    "\n",
    "\n",
    "class StudentAnalyzer:\n",
    "    def __init__ (self, data):\n",
    "        self.data = data\n",
    "\n",
    "\n",
    "\n",
    "\n",
    "    def get_high_scores(self, column, threshold):\n",
    "        return [score for score in self.data[column] if score > threshold]\n",
    "\n",
    "\n",
    "\n",
    "\n",
    "df = pd.read_csv(r\"C:\\Users\\ASUS\\Downloads\\StudentsPerformance.csv\")\n",
    "\n",
    "\n",
    "\n",
    "\n",
    "analyzer = StudentAnalyzer(df)\n",
    "high_math = analyzer.get_high_scores('math score', 70)\n",
    "print(\"Math Scores > 70 Count :\", len(high_math))\n",
    "\n",
    "\n",
    "\n",
    "\n",
    "plt.hist(high_math, bins = 10, color = 'blue')\n",
    "plt."
   ]
  }
 ],
 "metadata": {
  "kernelspec": {
   "display_name": "Python 3 (ipykernel)",
   "language": "python",
   "name": "python3"
  },
  "language_info": {
   "codemirror_mode": {
    "name": "ipython",
    "version": 3
   },
   "file_extension": ".py",
   "mimetype": "text/x-python",
   "name": "python",
   "nbconvert_exporter": "python",
   "pygments_lexer": "ipython3",
   "version": "3.12.7"
  }
 },
 "nbformat": 4,
 "nbformat_minor": 5
}
