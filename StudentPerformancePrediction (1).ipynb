{
 "cells": [
  {
   "cell_type": "code",
   "execution_count": 9,
   "id": "abc4b362-3d7e-49d2-97f4-148c5611c25e",
   "metadata": {},
   "outputs": [
    {
     "name": "stdout",
     "output_type": "stream",
     "text": [
      "Accuracy of the model : 1.00\n",
      "\n",
      "Classification Report :\n",
      "              precision    recall  f1-score   support\n",
      "\n",
      "        Fail       1.00      1.00      1.00        64\n",
      "        Pass       1.00      1.00      1.00       136\n",
      "\n",
      "    accuracy                           1.00       200\n",
      "   macro avg       1.00      1.00      1.00       200\n",
      "weighted avg       1.00      1.00      1.00       200\n",
      "\n"
     ]
    }
   ],
   "source": [
    "import pandas as pd\n",
    "import numpy as np\n",
    "from sklearn.model_selection import train_test_split\n",
    "from sklearn.linear_model import LogisticRegression\n",
    "from sklearn.preprocessing import StandardScaler\n",
    "from sklearn.metrics import accuracy_score, classification_report\n",
    "\n",
    "\n",
    "\n",
    "df = pd.read_csv(r\"C:\\Users\\ASUS\\Downloads\\StudentsPerformance.csv\")\n",
    "\n",
    "\n",
    "\n",
    "df['average_score'] = (df['math score'] + df['reading score'] + df['writing score'])/3\n",
    "df['pass'] = np.where(df['average_score'] > 60, 1, 0)\n",
    "\n",
    "\n",
    "\n",
    "X = df[['math score', 'reading score', 'writing score']]\n",
    "Y = df['pass']\n",
    "\n",
    "\n",
    "\n",
    "X_train, X_test, Y_train, Y_test = train_test_split(X, Y, test_size = 0.2, random_state = 42)\n",
    "\n",
    "\n",
    "\n",
    "scaler = StandardScaler()\n",
    "X_train = scaler.fit_transform(X_train)\n",
    "X_test = scaler.transform(X_test)\n",
    "\n",
    "\n",
    "\n",
    "model = LogisticRegression(random_state = 42)\n",
    "model.fit(X_train, Y_train)\n",
    "\n",
    "\n",
    "\n",
    "Y_pred = model.predict(X_test)\n",
    "\n",
    "\n",
    "\n",
    "accuracy = accuracy_score(Y_test, Y_pred)\n",
    "print(f\"Accuracy of the model : {accuracy:.2f}\")\n",
    "\n",
    "\n",
    "\n",
    "print(\"\\nClassification Report :\")\n",
    "print(classification_report(Y_test, Y_pred, target_names = ['Fail', 'Pass']))"
   ]
  },
  {
   "cell_type": "code",
   "execution_count": null,
   "id": "55d1ef4c-0568-4da5-9512-bff31823d1cb",
   "metadata": {},
   "outputs": [],
   "source": []
  }
 ],
 "metadata": {
  "kernelspec": {
   "display_name": "Python 3 (ipykernel)",
   "language": "python",
   "name": "python3"
  },
  "language_info": {
   "codemirror_mode": {
    "name": "ipython",
    "version": 3
   },
   "file_extension": ".py",
   "mimetype": "text/x-python",
   "name": "python",
   "nbconvert_exporter": "python",
   "pygments_lexer": "ipython3",
   "version": "3.12.7"
  }
 },
 "nbformat": 4,
 "nbformat_minor": 5
}
