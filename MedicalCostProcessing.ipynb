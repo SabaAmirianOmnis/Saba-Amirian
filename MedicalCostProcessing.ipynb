{
 "cells": [
  {
   "cell_type": "code",
   "execution_count": null,
   "id": "0fbd2053-c414-4079-96ea-5e49eceab85f",
   "metadata": {},
   "outputs": [],
   "source": [
    "import pandas as pd\n",
    "import matplotlib.pyplot as plt\n",
    "\n",
    "\n",
    "\n",
    "df = pd.read_csv(r\"C:\\Users\\ASUS\\Downloads\\Medical.csv\")\n",
    "\n",
    "\n",
    "\n",
    "avg_charges_by_region = df.groupby('region')['charges'].mean()\n",
    "\n",
    "\n",
    "\n",
    "avg_charges_by_region.plot(kind = 'bar', figsize = (8, 6), color = 'skyblue')\n",
    "plt.title('Average Charges by Region')\n",
    "plt.xlabel('Region')\n",
    "plt.ylabel('Average Charges"
   ]
  }
 ],
 "metadata": {
  "kernelspec": {
   "display_name": "Python 3 (ipykernel)",
   "language": "python",
   "name": "python3"
  },
  "language_info": {
   "codemirror_mode": {
    "name": "ipython",
    "version": 3
   },
   "file_extension": ".py",
   "mimetype": "text/x-python",
   "name": "python",
   "nbconvert_exporter": "python",
   "pygments_lexer": "ipython3",
   "version": "3.12.7"
  }
 },
 "nbformat": 4,
 "nbformat_minor": 5
}
