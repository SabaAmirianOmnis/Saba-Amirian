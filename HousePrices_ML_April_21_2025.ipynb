{
 "cells": [
  {
   "cell_type": "code",
   "execution_count": 2,
   "id": "618ed921-a9f5-4787-96c5-4cf047e8ec29",
   "metadata": {},
   "outputs": [
    {
     "ename": "NameError",
     "evalue": "name 'lr_accuracy' is not defined",
     "output_type": "error",
     "traceback": [
      "\u001b[1;31m---------------------------------------------------------------------------\u001b[0m",
      "\u001b[1;31mNameError\u001b[0m                                 Traceback (most recent call last)",
      "Cell \u001b[1;32mIn[2], line 26\u001b[0m\n\u001b[0;32m     24\u001b[0m lr_pred \u001b[38;5;241m=\u001b[39m lr\u001b[38;5;241m.\u001b[39mpredict(X)\n\u001b[0;32m     25\u001b[0m lr\u001b[38;5;241m.\u001b[39maccuracy \u001b[38;5;241m=\u001b[39m accuracy_score(Y, lr_pred)\n\u001b[1;32m---> 26\u001b[0m \u001b[38;5;28mprint\u001b[39m(\u001b[38;5;124m\"\u001b[39m\u001b[38;5;124mLogistic Regression Accuaracy :\u001b[39m\u001b[38;5;124m\"\u001b[39m, lr_accuracy)\n\u001b[0;32m     31\u001b[0m nb \u001b[38;5;241m=\u001b[39m GaussianNB()\n\u001b[0;32m     32\u001b[0m nb\u001b[38;5;241m.\u001b[39mfit(X, Y)\n",
      "\u001b[1;31mNameError\u001b[0m: name 'lr_accuracy' is not defined"
     ]
    }
   ],
   "source": [
    "from sklearn.linear_model import LogisticRegression\n",
    "from sklearn.naive_bayes import GaussianNB\n",
    "from sklearn.metrics import accuracy_score\n",
    "import pandas as pd\n",
    "import pickle\n",
    "\n",
    "\n",
    "\n",
    "\n",
    "df = pd.read_csv(r\"C:\\Users\\ASUS\\Downloads\\House Prices.csv\")\n",
    "\n",
    "\n",
    "\n",
    "\n",
    "features = ['LotArea', 'OverallQual', 'GrLivArea']\n",
    "X = df[features].fillna(0)\n",
    "Y = (df['SalePrice'] > 200000).astype(int)\n",
    "\n",
    "\n",
    "\n",
    "\n",
    "lr = LogisticRegression(random_state = 42)\n",
    "lr.fit(X, Y)\n",
    "lr_pred = lr.predict(X)\n",
    "lr.accuracy = accuracy_score(Y, lr_pred)\n",
    "print(\"Logistic Regression Accuaracy :\", lr_accuracy)\n",
    "\n",
    "\n",
    "\n",
    "\n",
    "nb = GaussianNB()\n",
    "nb.fit(X, Y)\n",
    "nb_pred = nb.predict(X)\n",
    "nb_accuracy = accuracy_score(Y, nb_pred)\n",
    "print(\"Naive Bayes Accuracy :\", nb_accuracy)\n",
    "\n",
    "\n",
    "\n",
    "\n",
    "print(\"Accuracy Comparison : Higher is better. Logistic :\", lr_accuracy, \"Naive Bayes :\", nb_accuracy)\n",
    "\n",
    "\n",
    "\n",
    "\n",
    "with open('House_Prices_Model_Apr21_2025.pkl', 'wb')as f :\n",
    "    pickle.dump(nb, f)"
   ]
  },
  {
   "cell_type": "code",
   "execution_count": null,
   "id": "9152ec42-faf2-4dfe-83d2-3f7b0550d599",
   "metadata": {},
   "outputs": [],
   "source": []
  }
 ],
 "metadata": {
  "kernelspec": {
   "display_name": "Python 3 (ipykernel)",
   "language": "python",
   "name": "python3"
  },
  "language_info": {
   "codemirror_mode": {
    "name": "ipython",
    "version": 3
   },
   "file_extension": ".py",
   "mimetype": "text/x-python",
   "name": "python",
   "nbconvert_exporter": "python",
   "pygments_lexer": "ipython3",
   "version": "3.12.7"
  }
 },
 "nbformat": 4,
 "nbformat_minor": 5
}
