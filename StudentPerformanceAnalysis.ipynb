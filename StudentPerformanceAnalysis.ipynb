{
 "cells": [
  {
   "cell_type": "code",
   "execution_count": 1,
   "id": "a6f639d0-67ec-410f-ab70-cd1117055efe",
   "metadata": {},
   "outputs": [
    {
     "name": "stdout",
     "output_type": "stream",
     "text": [
      "   gender race/ethnicity parental level of education         lunch  \\\n",
      "0  female        group B           bachelor's degree      standard   \n",
      "1  female        group C                some college      standard   \n",
      "2  female        group B             master's degree      standard   \n",
      "3    male        group A          associate's degree  free/reduced   \n",
      "4    male        group C                some college      standard   \n",
      "\n",
      "  test preparation course  math score  reading score  writing score  \n",
      "0                    none          72             72             74  \n",
      "1               completed          69             90             88  \n",
      "2                    none          90             95             93  \n",
      "3                    none          47             57             44  \n",
      "4                    none          76             78             75  \n"
     ]
    }
   ],
   "source": [
    "import pandas as pd\n",
    "\n",
    "\n",
    "\n",
    "df = pd.read_csv(r\"C:\\Users\\ASUS\\Downloads\\StudentsPerformance.csv\")\n",
    "print(df.head())"
   ]
  },
  {
   "cell_type": "code",
   "execution_count": 4,
   "id": "d9314da3-cbd8-4e12-905b-c9992fe82a82",
   "metadata": {},
   "outputs": [
    {
     "name": "stdout",
     "output_type": "stream",
     "text": [
      "Average Math Score:66.089\n"
     ]
    }
   ],
   "source": [
    "def calculate_average(scores):\n",
    "    return sum(scores) / len(scores)\n",
    "\n",
    "\n",
    "\n",
    "math_scores = df['math score']\n",
    "avg_math = calculate_average(math_scores)\n",
    "print(f\"Average Math Score:{avg_math}\")"
   ]
  },
  {
   "cell_type": "code",
   "execution_count": 6,
   "id": "11482780-1441-4eb2-ba8d-ed9a7be2d31b",
   "metadata": {},
   "outputs": [],
   "source": [
    "math_scores_list = list(df['math score'])\n",
    "\n",
    "\n",
    "\n",
    "high_scores = [score for score in math_scores_list if score > 80]\n",
    "print(f\"Number of students with math score above 80:{len(high_scores)}\""
   ]
  },
  {
   "cell_type": "code",
   "execution_count": null,
   "id": "395ef2fe-fafe-407b-9252-c4ebd7ea096b",
   "metadata": {},
   "outputs": [],
   "source": []
  }
 ],
 "metadata": {
  "kernelspec": {
   "display_name": "Python 3 (ipykernel)",
   "language": "python",
   "name": "python3"
  },
  "language_info": {
   "codemirror_mode": {
    "name": "ipython",
    "version": 3
   },
   "file_extension": ".py",
   "mimetype": "text/x-python",
   "name": "python",
   "nbconvert_exporter": "python",
   "pygments_lexer": "ipython3",
   "version": "3.12.7"
  }
 },
 "nbformat": 4,
 "nbformat_minor": 5
}
