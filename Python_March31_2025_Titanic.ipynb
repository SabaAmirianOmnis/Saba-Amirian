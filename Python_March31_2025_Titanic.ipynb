{
 "cells": [
  {
   "cell_type": "code",
   "execution_count": null,
   "id": "f3fb89b2-7db2-4b23-9415-b4a1f2a71e90",
   "metadata": {},
   "outputs": [],
   "source": [
    "import pandas as pd\n",
    "import matplotlib.pyplot as plt\n",
    "\n",
    "\n",
    "\n",
    "\n",
    "df = pd.read_csv(r\"C:\\Users\\ASUS\\Downloads\\Titanic.csv\")\n",
    "\n",
    "\n",
    "\n",
    "\n",
    "survived_list = [x for x in df['Survived']if x == 1]\n",
    "print(\"Survived Count :\", len(survived_list))\n",
    "\n",
    "\n",
    "\n",
    "\n",
    "plt.bar(['Died', 'Survived'], [len(df) - len(survived_list), len(survived_list)], color = ['red', 'green'])\n",
    "plt.title('"
   ]
  }
 ],
 "metadata": {
  "kernelspec": {
   "display_name": "Python 3 (ipykernel)",
   "language": "python",
   "name": "python3"
  },
  "language_info": {
   "codemirror_mode": {
    "name": "ipython",
    "version": 3
   },
   "file_extension": ".py",
   "mimetype": "text/x-python",
   "name": "python",
   "nbconvert_exporter": "python",
   "pygments_lexer": "ipython3",
   "version": "3.12.7"
  }
 },
 "nbformat": 4,
 "nbformat_minor": 5
}
