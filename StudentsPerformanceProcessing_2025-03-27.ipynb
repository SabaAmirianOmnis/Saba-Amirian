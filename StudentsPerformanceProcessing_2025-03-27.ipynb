{
 "cells": [
  {
   "cell_type": "code",
   "execution_count": null,
   "id": "2f03759e-647b-4ab3-9962-c2a9a4d3bf2e",
   "metadata": {},
   "outputs": [],
   "source": [
    "import pandas as pd\n",
    "\n",
    "\n",
    "\n",
    "\n",
    "df = pd.read_csv(r\"C:\\Users\\ASUS\\Downloads\\StudentsPerformance.csv\")\n",
    "\n",
    "\n",
    "\n",
    "\n",
    "score_dict = {}\n",
    "\n",
    "\n",
    "\n",
    "\n",
    "for gender in df['gender'].unique():\n",
    "    gender_data = df[df['gender'] == gender]\n",
    "    avg_math = gender_data['math score'].mean()\n",
    "    avg_reading = gender_data['reading score'].mean()\n",
    "    avg_writing = gender_data['writing score'].mean()\n",
    "    score_dict[gender] = {'Average Math Score' : avg_math, 'Average Reading Score' : avg_reading, 'Average Writing Score' : avg_writing}\n",
    "\n",
    "\n",
    "\n",
    "\n",
    "print(\"Average Scores by Gender :\")\n",
    "for gender, scores in score_dict.items():\n",
    "    print(f\"{gender} :\")\n",
    "    for key, value in scores.items():\n",
    "        print(f\"{key} : {value :"
   ]
  }
 ],
 "metadata": {
  "kernelspec": {
   "display_name": "Python 3 (ipykernel)",
   "language": "python",
   "name": "python3"
  },
  "language_info": {
   "codemirror_mode": {
    "name": "ipython",
    "version": 3
   },
   "file_extension": ".py",
   "mimetype": "text/x-python",
   "name": "python",
   "nbconvert_exporter": "python",
   "pygments_lexer": "ipython3",
   "version": "3.12.7"
  }
 },
 "nbformat": 4,
 "nbformat_minor": 5
}
