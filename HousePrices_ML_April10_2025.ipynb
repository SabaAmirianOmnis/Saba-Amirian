{
 "cells": [
  {
   "cell_type": "code",
   "execution_count": 4,
   "id": "b13826f4-04ae-4dda-81d5-ca6bc11ffadc",
   "metadata": {},
   "outputs": [
    {
     "ename": "SyntaxError",
     "evalue": "unterminated string literal (detected at line 45) (2914269128.py, line 45)",
     "output_type": "error",
     "traceback": [
      "\u001b[1;36m  Cell \u001b[1;32mIn[4], line 45\u001b[1;36m\u001b[0m\n\u001b[1;33m    results.to_csv(\"KNN_Predictions_April_10_2025.cs. توضیح = False)\u001b[0m\n\u001b[1;37m                   ^\u001b[0m\n\u001b[1;31mSyntaxError\u001b[0m\u001b[1;31m:\u001b[0m unterminated string literal (detected at line 45)\n"
     ]
    }
   ],
   "source": [
    "import pandas as pd\n",
    "from sklearn.model_selection import train_test_split\n",
    "from sklearn.neighbors import KNeighborsRegressor\n",
    "from sklearn.metrics import mean_squared_error\n",
    "import numpy as np\n",
    "\n",
    "\n",
    "\n",
    "\n",
    "data = pd.read_csv(r\"C:\\Users\\ASUS\\Downloads\\House Prices.csv\")\n",
    "\n",
    "\n",
    "\n",
    "\n",
    "X = data[[\"GrLivArea\", \"BedroomAbvGr\"]]\n",
    "Y = data[\"SalePrice\"]\n",
    "\n",
    "\n",
    "\n",
    "\n",
    "X_train, X_test, Y_train, Y_test = train_test_split(X, Y, test_size = 0.2, random_state = 42)\n",
    "\n",
    "\n",
    "\n",
    "\n",
    "knn = KNeighborsRegressor(n_neighbors = 5)\n",
    "knn.fit(X_train, Y_train)\n",
    "\n",
    "\n",
    "\n",
    "\n",
    "Y_pred = knn.predict(X_test)\n",
    "\n",
    "\n",
    "\n",
    "\n",
    "mse = mean_squared_error(Y_test, Y_pred)\n",
    "rmse = np.sqrt(mse)\n",
    "print(f\"Root Mean Squared Error :, {rmse}\")\n",
    "\n",
    "\n",
    "\n",
    "\n",
    "results = pd.DataFrame({\"Actual\" : Y_test, \"Predicted\" : Y_pred})\n",
    "results.to_csv(\"KNN_Predictions_April_10_2025.cs = False)"
   ]
  },
  {
   "cell_type": "code",
   "execution_count": null,
   "id": "49a4c290-f048-4d9f-a195-e90246aec6d3",
   "metadata": {},
   "outputs": [],
   "source": []
  }
 ],
 "metadata": {
  "kernelspec": {
   "display_name": "Python 3 (ipykernel)",
   "language": "python",
   "name": "python3"
  },
  "language_info": {
   "codemirror_mode": {
    "name": "ipython",
    "version": 3
   },
   "file_extension": ".py",
   "mimetype": "text/x-python",
   "name": "python",
   "nbconvert_exporter": "python",
   "pygments_lexer": "ipython3",
   "version": "3.12.7"
  }
 },
 "nbformat": 4,
 "nbformat_minor": 5
}
