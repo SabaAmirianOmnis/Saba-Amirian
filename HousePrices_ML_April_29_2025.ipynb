{
 "cells": [
  {
   "cell_type": "code",
   "execution_count": 19,
   "id": "8e1283e6-b4fb-4c07-bf04-8206c4a0c1d9",
   "metadata": {},
   "outputs": [
    {
     "name": "stdout",
     "output_type": "stream",
     "text": [
      "Requirement already satisfied: lightgbm in c:\\users\\asus\\.ipython\\profile_default\\db\\lib\\site-packages (4.6.0)\n",
      "Requirement already satisfied: numpy>=1.17.0 in c:\\users\\asus\\.ipython\\profile_default\\db\\lib\\site-packages (from lightgbm) (1.26.4)\n",
      "Requirement already satisfied: scipy in c:\\users\\asus\\.ipython\\profile_default\\db\\lib\\site-packages (from lightgbm) (1.13.1)\n"
     ]
    }
   ],
   "source": [
    "!pip install lightgbm"
   ]
  },
  {
   "cell_type": "code",
   "execution_count": 2,
   "id": "60616d9f-e7a8-4443-b508-a8af678eb5d6",
   "metadata": {},
   "outputs": [],
   "source": [
    "import pandas as pd\n",
    "import lightgbm as lgb\n",
    "from sklearn.model_selection import train_test_split\n",
    "from sklearn.metrics import mean_squared_error\n",
    "import numpy as np\n",
    "\n",
    "\n",
    "\n",
    "\n",
    "df = pd.read_csv(r\"C:\\Users\\ASUS\\Downloads\\House Prices.csv\")"
   ]
  },
  {
   "cell_type": "code",
   "execution_count": 3,
   "id": "5c20c378-16e3-4816-9940-c82d0ce97ffd",
   "metadata": {},
   "outputs": [],
   "source": [
    "numeric_cols = df.select_dtypes(include = [np.number]).columns\n",
    "\n",
    "\n",
    "\n",
    "\n",
    "df_numeric = df[numeric_cols].copy()\n",
    "\n",
    "\n",
    "\n",
    "\n",
    "df_numeric = df_numeric.fillna(df_numeric.mean())\n",
    "\n",
    "\n",
    "\n",
    "\n",
    "\n",
    "X = df_numeric.drop('SalePrice', axis = 1)\n",
    "Y = df_numeric['SalePrice']"
   ]
  },
  {
   "cell_type": "code",
   "execution_count": 4,
   "id": "699c0fe5-3a23-44b9-a26d-4ca84d5c33c4",
   "metadata": {},
   "outputs": [],
   "source": [
    "X_train, X_test, Y_train, Y_test = train_test_split(X, Y, test_size = 0.2, random_state = 42)"
   ]
  },
  {
   "cell_type": "code",
   "execution_count": 7,
   "id": "964e4f89-66b6-4bcb-a8c8-2873011ff273",
   "metadata": {},
   "outputs": [],
   "source": [
    "train_data = lgb.Dataset(X_train, label = Y_train)\n",
    "test_data = lgb.Dataset(X_test, label = Y_test, reference = train_data)\n",
    "\n",
    "\n",
    "\n",
    "\n",
    "params = {'objective' : 'regression', 'metric' : 'rmse', 'num_leaves' : 31, 'learning_rate' : 0.05, 'feature_fraction' : 0.9, 'bagging_fraction' : 0.8, 'bagging_freq' : 5, 'verbose' : -1}\n",
    "\n",
    "\n",
    "\n",
    "\n",
    "model = lgb.train(params, train_data, num_boost_round = 100, valid_sets = [test_data])"
   ]
  },
  {
   "cell_type": "code",
   "execution_count": 8,
   "id": "b915dfad-9460-4aa6-9cac-8cdfc6726bff",
   "metadata": {},
   "outputs": [
    {
     "name": "stdout",
     "output_type": "stream",
     "text": [
      "RMSE : 29945.504682033366\n"
     ]
    }
   ],
   "source": [
    "Y_pred = model.predict(X_test)\n",
    "\n",
    "\n",
    "\n",
    "\n",
    "rmse = np.sqrt(mean_squared_error(Y_test, Y_pred))\n",
    "print(f\"RMSE : {rmse}\")"
   ]
  },
  {
   "cell_type": "code",
   "execution_count": null,
   "id": "895f04bc-4564-4d6b-9348-c79a592e6e92",
   "metadata": {},
   "outputs": [],
   "source": [
    "model.save_model('HousePrice"
   ]
  }
 ],
 "metadata": {
  "kernelspec": {
   "display_name": "Python 3 (ipykernel)",
   "language": "python",
   "name": "python3"
  },
  "language_info": {
   "codemirror_mode": {
    "name": "ipython",
    "version": 3
   },
   "file_extension": ".py",
   "mimetype": "text/x-python",
   "name": "python",
   "nbconvert_exporter": "python",
   "pygments_lexer": "ipython3",
   "version": "3.12.7"
  }
 },
 "nbformat": 4,
 "nbformat_minor": 5
}
