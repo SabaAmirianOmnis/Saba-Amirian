{
 "cells": [
  {
   "cell_type": "code",
   "execution_count": 1,
   "id": "04cf02e2-ec9a-440b-ad6e-fce42a1b8461",
   "metadata": {},
   "outputs": [
    {
     "name": "stdout",
     "output_type": "stream",
     "text": [
      "Average study time: 49.70 minutes\n",
      "Maximum study time: 106.3 minutes\n",
      "Sorted list: [17.9, 19.1, 20.0, 30.0, 49.3, 50.0, 105.0, 106.3]\n"
     ]
    }
   ],
   "source": [
    "study_times = [106.3, 49.3, 17.9, 19.1, 105.0, 50.0, 20.0, 30.0]\n",
    "\n",
    "\n",
    "average_time = sum(study_times) / len(study_times)\n",
    "print(f\"Average study time: {average_time:.2f} minutes\")  \n",
    "\n",
    "\n",
    "max_time = max(study_times)\n",
    "print(f\"Maximum study time: {max_time} minutes\")  \n",
    "\n",
    "\n",
    "study_times.sort()\n",
    "print(f\"Sorted list: {study_times}\")"
   ]
  },
  {
   "cell_type": "code",
   "execution_count": 2,
   "id": "63831fb5-1bac-4853-8ea4-6d01c98030bd",
   "metadata": {},
   "outputs": [
    {
     "name": "stdout",
     "output_type": "stream",
     "text": [
      "(2, 5, 3): X1 = -1.0, X2 = -1.5\n"
     ]
    }
   ],
   "source": [
    "import math\n",
    "\n",
    "\n",
    "a, b, c = 2, 5, 3\n",
    "delta = b**2 - 4*a*c  # 25 - 24 = 1\n",
    "\n",
    "\n",
    "if delta > 0:\n",
    "    x1 = (-b + math.sqrt(delta)) / (2*a)\n",
    "    x2 = (-b - math.sqrt(delta)) / (2*a)\n",
    "    print(f\"({a}, {b}, {c}): X1 = {x1}, X2 = {x2}\")\n",
    "elif delta == 0:\n",
    "    x = (-b) / (2*a)\n",
    "    print(f\"({a}, {b}, {c}): X = {x}\")\n",
    "else:\n",
    "    print(f\"({a}, {b}, {c}): No Roots\")"
   ]
  },
  {
   "cell_type": "code",
   "execution_count": null,
   "id": "1ee68d54-8d4d-43f4-983d-cf948a5fd417",
   "metadata": {},
   "outputs": [],
   "source": []
  }
 ],
 "metadata": {
  "kernelspec": {
   "display_name": "Python 3 (ipykernel)",
   "language": "python",
   "name": "python3"
  },
  "language_info": {
   "codemirror_mode": {
    "name": "ipython",
    "version": 3
   },
   "file_extension": ".py",
   "mimetype": "text/x-python",
   "name": "python",
   "nbconvert_exporter": "python",
   "pygments_lexer": "ipython3",
   "version": "3.12.7"
  }
 },
 "nbformat": 4,
 "nbformat_minor": 5
}
