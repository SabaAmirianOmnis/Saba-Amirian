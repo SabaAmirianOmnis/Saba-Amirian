{
 "cells": [
  {
   "cell_type": "code",
   "execution_count": 1,
   "id": "2b92e6f1-c82c-4bf9-a89f-c28e4f3d0308",
   "metadata": {},
   "outputs": [
    {
     "name": "stdout",
     "output_type": "stream",
     "text": [
      "DataFrame:\n",
      "            Subject  Time (Minutes)\n",
      "0              Math          107.90\n",
      "1             Excel           32.55\n",
      "2            Python           19.80\n",
      "3  Machine Learning           19.83\n",
      "\n",
      "Mean Time (Minutes):45.02\n",
      "Standard Deviation of Time (Minutes):36.67\n"
     ]
    }
   ],
   "source": [
    "import pandas as pd\n",
    "\n",
    "\n",
    "\n",
    "data = {'Subject':['Math','Excel','Python','Machine Learning'],'Time (Minutes)':[107.9,32.55,19.8,19.83]}\n",
    "\n",
    "\n",
    "\n",
    "df = pd.DataFrame(data)\n",
    "\n",
    "\n",
    "\n",
    "def calculate_mean(times):\n",
    "    total = sum(times)\n",
    "    count = len(times)\n",
    "    return total/count\n",
    "\n",
    "\n",
    "\n",
    "def calculate_std(times):\n",
    "    mean = calculate_mean(times)\n",
    "    squared_diff_sum = sum((x-mean)**2 for x in times)\n",
    "    return (squared_diff_sum/len(times))**0.5\n",
    "\n",
    "\n",
    "\n",
    "times = df['Time (Minutes)'].tolist()\n",
    "mean_time = calculate_mean(times)\n",
    "std_time = calculate_std(times)\n",
    "\n",
    "\n",
    "\n",
    "print(\"DataFrame:\")\n",
    "print(df)\n",
    "print(f\"\\nMean Time (Minutes):{mean_time:.2f}\")\n",
    "print(f\"Standard Deviation of Time (Minutes):{std_time:.2f}\")"
   ]
  },
  {
   "cell_type": "code",
   "execution_count": null,
   "id": "eb48730e-cf31-44d5-b2f8-f49eca37b1dd",
   "metadata": {},
   "outputs": [],
   "source": []
  }
 ],
 "metadata": {
  "kernelspec": {
   "display_name": "Python 3 (ipykernel)",
   "language": "python",
   "name": "python3"
  },
  "language_info": {
   "codemirror_mode": {
    "name": "ipython",
    "version": 3
   },
   "file_extension": ".py",
   "mimetype": "text/x-python",
   "name": "python",
   "nbconvert_exporter": "python",
   "pygments_lexer": "ipython3",
   "version": "3.12.7"
  }
 },
 "nbformat": 4,
 "nbformat_minor": 5
}
