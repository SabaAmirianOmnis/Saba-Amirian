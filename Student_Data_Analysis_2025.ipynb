{
 "cells": [
  {
   "cell_type": "code",
   "execution_count": 1,
   "id": "5d63ede2-3fa2-4d9c-ac4a-e128ba25d72c",
   "metadata": {},
   "outputs": [
    {
     "name": "stdout",
     "output_type": "stream",
     "text": [
      "Average Time: 3.0\n",
      "Max Score: 90\n"
     ]
    }
   ],
   "source": [
    "import pandas as pd\n",
    "data = {'Student':['Ali','Sara','Reza'],'Score':[85,90,75],'Time':[3,4,2]}\n",
    "df = pd.DataFrame(data)\n",
    "\n",
    "print(\"Average Time:\",df['Time'].mean())\n",
    "print(\"Max Score:\",df['Score'].max())"
   ]
  },
  {
   "cell_type": "code",
   "execution_count": null,
   "id": "64283e17-083d-40fb-8f5d-0ad633df2833",
   "metadata": {},
   "outputs": [],
   "source": []
  }
 ],
 "metadata": {
  "kernelspec": {
   "display_name": "Python 3 (ipykernel)",
   "language": "python",
   "name": "python3"
  },
  "language_info": {
   "codemirror_mode": {
    "name": "ipython",
    "version": 3
   },
   "file_extension": ".py",
   "mimetype": "text/x-python",
   "name": "python",
   "nbconvert_exporter": "python",
   "pygments_lexer": "ipython3",
   "version": "3.12.7"
  }
 },
 "nbformat": 4,
 "nbformat_minor": 5
}
