{
 "cells": [
  {
   "cell_type": "code",
   "execution_count": null,
   "id": "2b8559f1-fb6c-4d2b-bd2a-78bb736cc3fc",
   "metadata": {},
   "outputs": [],
   "source": [
    "import pandas as pd\n",
    "import seaborn as sns\n",
    "import matplotlib.pyplot as plt\n",
    "from sklearn.model_selection import train_test_split\n",
    "\n",
    "\n",
    "\n",
    "\n",
    "df = pd.read_csv(r\"C:\\Users\\ASUS\\Downloads\\House Prices.csv\")\n",
    "\n",
    "\n",
    "\n",
    "\n",
    "def price_category(price):\n",
    "    return 'High' if price > 200000 else 'Low'\n",
    "\n",
    "\n",
    "\n",
    "\n",
    "df['PriceCategory'] = df['SalePrice'].apply(price_category)\n",
    "print(df[['SalePrice', 'PriceCategory']].head())\n",
    "\n",
    "\n",
    "\n",
    "\n",
    "X = df[['LotArea', 'OverallQual', 'GrLivArea']].fillna(0)\n",
    "Y = df['SalePrice']\n",
    "X_train, X_test, Y_train, Y_test = train_test_split(X, Y, test_size = 0.2, random_state = 42)\n",
    "X_val, X_test, Y_val, Y_test = train_test_split(X_temp, Y_temp, test_size = 0.33, random_state = 42)\n",
    "print(\"Train size :\", len(X_train), \"Validation size :\", len(X_val), \"Test size :\", len(X_test))\n",
    "\n",
    "\n",
    "\n",
    "\n",
    "sns.violinplot(x = 'BedroomAbvGr', y = 'SalePrice', data = df)\n",
    "plt.title('Violin Plot of SalePrice by Be"
   ]
  }
 ],
 "metadata": {
  "kernelspec": {
   "display_name": "Python 3 (ipykernel)",
   "language": "python",
   "name": "python3"
  },
  "language_info": {
   "codemirror_mode": {
    "name": "ipython",
    "version": 3
   },
   "file_extension": ".py",
   "mimetype": "text/x-python",
   "name": "python",
   "nbconvert_exporter": "python",
   "pygments_lexer": "ipython3",
   "version": "3.12.7"
  }
 },
 "nbformat": 4,
 "nbformat_minor": 5
}
