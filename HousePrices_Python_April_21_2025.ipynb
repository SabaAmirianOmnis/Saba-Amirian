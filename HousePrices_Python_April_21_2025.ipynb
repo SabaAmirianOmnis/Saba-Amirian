{
 "cells": [
  {
   "cell_type": "code",
   "execution_count": null,
   "id": "dbfe00d2-d4a0-47f3-be41-808dec06bc7b",
   "metadata": {},
   "outputs": [],
   "source": [
    "import pandas as pd\n",
    "import numpy as np\n",
    "import seaborn as sns\n",
    "import matplotlib.pyplot as plt\n",
    "\n",
    "\n",
    "\n",
    "\n",
    "df = pd.read_csv(r\"C:\\Users\\ASUS\\Downloads\\House Prices.csv\")\n",
    "\n",
    "\n",
    "\n",
    "\n",
    "qual_count = df['OverallQual'].value_counts().to_dict()\n",
    "print(\"House Count by OverallQual :\", qual_count)\n",
    "\n",
    "\n",
    "\n",
    "\n",
    "sale_price = df['SalePrice'].to_numpy()\n",
    "mean_price = np.mean(sale_price)\n",
    "std_price = np.std(sale_price)\n",
    "print(\"Mean SalePrice :\", mean_price, \"Std SalePrice :\", std_price)\n",
    "\n",
    "\n",
    "\n",
    "\n",
    "sns.pairplot(df[['SalePrice', 'LotArea', 'GrLivArea']])\n",
    "plt.title('Pairplot of Selected F"
   ]
  }
 ],
 "metadata": {
  "kernelspec": {
   "display_name": "Python 3 (ipykernel)",
   "language": "python",
   "name": "python3"
  },
  "language_info": {
   "codemirror_mode": {
    "name": "ipython",
    "version": 3
   },
   "file_extension": ".py",
   "mimetype": "text/x-python",
   "name": "python",
   "nbconvert_exporter": "python",
   "pygments_lexer": "ipython3",
   "version": "3.12.7"
  }
 },
 "nbformat": 4,
 "nbformat_minor": 5
}
