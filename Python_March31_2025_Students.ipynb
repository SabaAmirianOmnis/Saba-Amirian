{
 "cells": [
  {
   "cell_type": "code",
   "execution_count": null,
   "id": "8b4df892-480c-46be-9c23-76e75a56a272",
   "metadata": {},
   "outputs": [],
   "source": [
    "import pandas as pd\n",
    "import matplotlib.pyplot as plt\n",
    "\n",
    "\n",
    "\n",
    "\n",
    "df = pd.read_csv(r\"C:\\Users\\ASUS\\Downloads\\StudentsPerformance.csv\")\n",
    "\n",
    "\n",
    "\n",
    "\n",
    "high_math = [score for score in df['math score']if score > 70]\n",
    "print(\"Math Scores > 70 Count :\", len(high_math))\n",
    "\n",
    "\n",
    "\n",
    "\n",
    "plt.hist(high_math, bins = 10, color = 'blue')\n",
    "plt.title('Distribution o"
   ]
  }
 ],
 "metadata": {
  "kernelspec": {
   "display_name": "Python 3 (ipykernel)",
   "language": "python",
   "name": "python3"
  },
  "language_info": {
   "codemirror_mode": {
    "name": "ipython",
    "version": 3
   },
   "file_extension": ".py",
   "mimetype": "text/x-python",
   "name": "python",
   "nbconvert_exporter": "python",
   "pygments_lexer": "ipython3",
   "version": "3.12.7"
  }
 },
 "nbformat": 4,
 "nbformat_minor": 5
}
