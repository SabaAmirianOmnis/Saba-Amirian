{
 "cells": [
  {
   "cell_type": "code",
   "execution_count": null,
   "id": "4f53e90f-3335-491d-9db9-31e958eda1de",
   "metadata": {},
   "outputs": [],
   "source": [
    "import pandas as pd\n",
    "import matplotlib.pyplot as plt\n",
    "from sklearn.model_selection import train_test_split\n",
    "from sklearn.linear_model import LinearRegression\n",
    "from sklearn.metrics import mean_squared_error\n",
    "\n",
    "\n",
    "\n",
    "\n",
    "df = pd.read_csv(r\"C:\\Users\\ASUS\\Downloads\\House Prices.csv\")\n",
    "\n",
    "\n",
    "\n",
    "\n",
    "X = df[[\"LotArea\", \"OverallQual\", \"YearBuilt\"]]\n",
    "Y = df[\"SalePrice\"]\n",
    "\n",
    "\n",
    "\n",
    "\n",
    "X_train, X_test, Y_train, Y_test = train_test_split(X, Y, test_size = 0.2, random_sate = 42)\n",
    "\n",
    "\n",
    "\n",
    "\n",
    "model = LinearRegression()\n",
    "model.fit(X_train, Y_train)\n",
    "\n",
    "\n",
    "\n",
    "\n",
    "Y_pred = model.predict(X_test)\n",
    "\n",
    "\n",
    "\n",
    "\n",
    "mse = mean_squared_error(Y_test, Y_pred)\n",
    "print(\"Mean Squared Error :\", mse)\n",
    "\n",
    "\n",
    "\n",
    "\n",
    "plt.figure(figsize = (8, 5))\n",
    "plt.scatter(Y_test, Y_pred, color = \"green\", alpha = 0.5)\n",
    "plt.plot([Y_test.mean(), Y_test.max()], [Y_test.min(), Y_test.max()], \"r--\", lw = 2)\n",
    "plt.title(\"Actual VS Predicted SalePrice\")\n",
    "plt.xlabel(\"Actual SalePrice ($)\")\n",
    "plt.ylabel(\"Predicted SalePrice ($)\")\n",
    "plt.savefig(\"HousePrices_ActualVSPredicted"
   ]
  }
 ],
 "metadata": {
  "kernelspec": {
   "display_name": "Python 3 (ipykernel)",
   "language": "python",
   "name": "python3"
  },
  "language_info": {
   "codemirror_mode": {
    "name": "ipython",
    "version": 3
   },
   "file_extension": ".py",
   "mimetype": "text/x-python",
   "name": "python",
   "nbconvert_exporter": "python",
   "pygments_lexer": "ipython3",
   "version": "3.12.7"
  }
 },
 "nbformat": 4,
 "nbformat_minor": 5
}
