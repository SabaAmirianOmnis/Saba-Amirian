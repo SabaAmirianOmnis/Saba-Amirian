{
 "cells": [
  {
   "cell_type": "code",
   "execution_count": 1,
   "id": "86aff1fb-dd25-4be1-9c98-cf0db14144a7",
   "metadata": {},
   "outputs": [],
   "source": [
    "import pandas as pd\n",
    "from sklearn.model_selection import train_test_split\n",
    "from sklearn.linear_model import LinearRegression\n",
    "from sklearn.preprocessing import StandardScaler\n",
    "\n",
    "\n",
    "\n",
    "df = pd.read_csv(r\"C:\\Users\\ASUS\\Downloads\\Medical.csv\")\n",
    "\n",
    "\n",
    "\n",
    "df['smoker'] = df['smoker'].map({'yes' : 1, 'no' : 0})\n",
    "df['sex'] = df['sex'].map({'male' : 1, 'female' : 0})\n",
    "df = pd.get_dummies(df, columns = ['region'], drop_first = True)"
   ]
  },
  {
   "cell_type": "code",
   "execution_count": 2,
   "id": "5f663ce3-b9af-4d6d-bd55-3049fdc5e54c",
   "metadata": {},
   "outputs": [],
   "source": [
    "X = df[['age', 'bmi', 'smoker', 'sex', 'region_northwest', 'region_southeast', 'region_southwest']]\n",
    "Y = df['charges']\n",
    "\n",
    "\n",
    "\n",
    "X_train, X_test, Y_train, Y_test = train_test_split(X, Y, test_size = 0.2, random_state = 42)\n",
    "\n",
    "\n",
    "\n",
    "scaler = StandardScaler()\n",
    "X_train = scaler.fit_transform(X_train)\n",
    "X_test = scaler.transform(X_test)"
   ]
  },
  {
   "cell_type": "code",
   "execution_count": 3,
   "id": "2e93b4d7-15bb-42d0-8691-3662ee525a9e",
   "metadata": {},
   "outputs": [
    {
     "name": "stdout",
     "output_type": "stream",
     "text": [
      "R-squared : 0.78\n"
     ]
    }
   ],
   "source": [
    "model = LinearRegression()\n",
    "model.fit(X_train, Y_train)\n",
    "\n",
    "\n",
    "\n",
    "r_squared = model.score(X_test, Y_test)\n",
    "print(f\"R-squared : {r_squared:.2f}\")"
   ]
  },
  {
   "cell_type": "code",
   "execution_count": null,
   "id": "eeef0242-71e3-4513-9f5f-68dd40af3f2d",
   "metadata": {},
   "outputs": [],
   "source": []
  }
 ],
 "metadata": {
  "kernelspec": {
   "display_name": "Python 3 (ipykernel)",
   "language": "python",
   "name": "python3"
  },
  "language_info": {
   "codemirror_mode": {
    "name": "ipython",
    "version": 3
   },
   "file_extension": ".py",
   "mimetype": "text/x-python",
   "name": "python",
   "nbconvert_exporter": "python",
   "pygments_lexer": "ipython3",
   "version": "3.12.7"
  }
 },
 "nbformat": 4,
 "nbformat_minor": 5
}
