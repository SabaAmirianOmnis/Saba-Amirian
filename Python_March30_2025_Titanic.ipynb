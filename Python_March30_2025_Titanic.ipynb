{
 "cells": [
  {
   "cell_type": "code",
   "execution_count": null,
   "id": "406b643a-3f97-4119-ae21-772b01930b01",
   "metadata": {},
   "outputs": [],
   "source": [
    "import pandas as pd\n",
    "import matplotlib.pyplot as plt\n",
    "\n",
    "\n",
    "\n",
    "\n",
    "df = pd.read_csv(r\"C:\\Users\\ASUS\\Downloads\\Titanic.csv\")\n",
    "\n",
    "\n",
    "\n",
    "\n",
    "survival_dict = df['Survived'].value_counts().to_dict()\n",
    "print(\"Survival Counts :\", survival_dict)\n",
    "\n",
    "\n",
    "\n",
    "\n",
    "plt.bar(survival_dict.key(), survival_dict.values(), color = ['red', 'green'])\n",
    "plt.title('Survival Count')\n",
    "plt.xlabel('Survived (0 = Died, 1 = Survived)')"
   ]
  }
 ],
 "metadata": {
  "kernelspec": {
   "display_name": "Python 3 (ipykernel)",
   "language": "python",
   "name": "python3"
  },
  "language_info": {
   "codemirror_mode": {
    "name": "ipython",
    "version": 3
   },
   "file_extension": ".py",
   "mimetype": "text/x-python",
   "name": "python",
   "nbconvert_exporter": "python",
   "pygments_lexer": "ipython3",
   "version": "3.12.7"
  }
 },
 "nbformat": 4,
 "nbformat_minor": 5
}
