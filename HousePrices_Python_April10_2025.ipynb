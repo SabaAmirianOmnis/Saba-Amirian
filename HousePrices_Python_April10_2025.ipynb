{
 "cells": [
  {
   "cell_type": "code",
   "execution_count": null,
   "id": "9daeeabd-5ee2-47de-9895-29faae51e495",
   "metadata": {},
   "outputs": [],
   "source": [
    "import pandas as pd\n",
    "import matplotlib.pyplot as plt\n",
    "\n",
    "\n",
    "\n",
    "\n",
    "df = pd.read_csv(r\"C:\\Users\\ASUS\\Downloads\\House Prices.csv\")\n",
    "\n",
    "\n",
    "\n",
    "\n",
    "def categorize_price(price):\n",
    "    if price > 100000:\n",
    "        return \"Expensive\"\n",
    "    else:\n",
    "        return \"Cheap\"\n",
    "\n",
    "\n",
    "\n",
    "\n",
    "data[\"Category\"] = data[\"SalePrice\"].apply(categorize_price)\n",
    "\n",
    "\n",
    "\n",
    "\n",
    "plt.fiugre(figize = (10, 6))\n",
    "plt.boxplot([data[data[\"Category\"] == \"Expensive\"][\"SalePrice\"], data[data[\"Category\"] == \"Cheap\"][\"SalePrice\"]], labels = [\"Expensive\", \"Cheap\"])\n",
    "plt.title(\"Price Distribution by Category\")\n",
    "plt.ylabel(\"Price\")\n",
    "plt.savefig(\"Boxplot_April_10_2025.png\")\n",
    "plt.show()\n",
    "\n",
    "\n",
    "\n",
    "\n",
    "data.to_csv(\"Updated_"
   ]
  }
 ],
 "metadata": {
  "kernelspec": {
   "display_name": "Python 3 (ipykernel)",
   "language": "python",
   "name": "python3"
  },
  "language_info": {
   "codemirror_mode": {
    "name": "ipython",
    "version": 3
   },
   "file_extension": ".py",
   "mimetype": "text/x-python",
   "name": "python",
   "nbconvert_exporter": "python",
   "pygments_lexer": "ipython3",
   "version": "3.12.7"
  }
 },
 "nbformat": 4,
 "nbformat_minor": 5
}
