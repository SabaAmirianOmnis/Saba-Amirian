{
 "cells": [
  {
   "cell_type": "code",
   "execution_count": null,
   "id": "1a42b05b-9228-4387-b182-15657ae0ad3e",
   "metadata": {},
   "outputs": [],
   "source": [
    "import pandas as pd\n",
    "\n",
    "\n",
    "\n",
    "\n",
    "df = pd.read_csv(r\"C:\\Users\\ASUS\\Downloads\\House Prices.csv\")\n",
    "\n",
    "\n",
    "\n",
    "\n",
    "def recursive_sum(data, index):\n",
    "    if index >= len(data):\n",
    "        return 0\n",
    "    return data[index] + recursive_sum(data, index + 1)\n",
    "\n",
    "\n",
    "\n",
    "\n",
    "sale_prices = df['SalePrice'].dropna().tolist()\n",
    "\n",
    "\n",
    "\n",
    "\n",
    "total_sale_price = recursive_sum(sale_prices, 0)\n",
    "print(f\"Total SalePrice (Recursive) : {total_sale_price}\")\n",
    "\n",
    "\n",
    "\n",
    "\n",
    "pandas_sum = df['S"
   ]
  }
 ],
 "metadata": {
  "kernelspec": {
   "display_name": "Python 3 (ipykernel)",
   "language": "python",
   "name": "python3"
  },
  "language_info": {
   "codemirror_mode": {
    "name": "ipython",
    "version": 3
   },
   "file_extension": ".py",
   "mimetype": "text/x-python",
   "name": "python",
   "nbconvert_exporter": "python",
   "pygments_lexer": "ipython3",
   "version": "3.12.7"
  }
 },
 "nbformat": 4,
 "nbformat_minor": 5
}
