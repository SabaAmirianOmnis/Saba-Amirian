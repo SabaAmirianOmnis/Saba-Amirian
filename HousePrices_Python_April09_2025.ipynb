{
 "cells": [
  {
   "cell_type": "code",
   "execution_count": null,
   "id": "b06ef952-6a8b-4d16-b3c9-94484835db93",
   "metadata": {},
   "outputs": [],
   "source": [
    "import pandas as pd\n",
    "\n",
    "\n",
    "\n",
    "\n",
    "data = pd.read_csv(r\"C:\\Users\\ASUS\\Downloads\\House Prices.csv\")\n",
    "\n",
    "\n",
    "\n",
    "\n",
    "neighborhood_prices = {}\n",
    "\n",
    "\n",
    "\n",
    "\n",
    "for index, row in data.iterrows():\n",
    "    neighborhood = row[\"Neighborhood\"]\n",
    "\n",
    "\n",
    "\n",
    "\n",
    "    price = row[\"SalePeice\"]\n",
    "\n",
    "\n",
    "\n",
    "\n",
    "    if neighborhood in neighborhood_prices:\n",
    "        neighborhood_prices[neighborhood].append(price)\n",
    "    else:\n",
    "        neighborhood_prices[neighborhood] = [price]\n",
    "\n",
    "\n",
    "\n",
    "\n",
    "avg_prices = {key : sum(values) / len(values) for key, values in neighborhood_prices.items()}\n",
    "\n",
    "\n",
    "\n",
    "\n",
    "print(\"Average prices per neighborhood :\", avg_prices)\n",
    "\n",
    "\n",
    "\n",
    "\n",
    "price_list = [avg for avg in avg_prices.values()]\n",
    "print(\"List of average "
   ]
  }
 ],
 "metadata": {
  "kernelspec": {
   "display_name": "Python 3 (ipykernel)",
   "language": "python",
   "name": "python3"
  },
  "language_info": {
   "codemirror_mode": {
    "name": "ipython",
    "version": 3
   },
   "file_extension": ".py",
   "mimetype": "text/x-python",
   "name": "python",
   "nbconvert_exporter": "python",
   "pygments_lexer": "ipython3",
   "version": "3.12.7"
  }
 },
 "nbformat": 4,
 "nbformat_minor": 5
}
