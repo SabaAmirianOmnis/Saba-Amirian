{
 "cells": [
  {
   "cell_type": "code",
   "execution_count": 1,
   "id": "1e983fc7-79aa-4dfb-8640-8970a34a4ce3",
   "metadata": {},
   "outputs": [
    {
     "name": "stdin",
     "output_type": "stream",
     "text": [
      "Enter first number: 2\n",
      "Enter second number: 4\n",
      "Enter operation (+,-,*,/): +\n"
     ]
    },
    {
     "name": "stdout",
     "output_type": "stream",
     "text": [
      "Result:6.0\n"
     ]
    },
    {
     "name": "stdin",
     "output_type": "stream",
     "text": [
      "Continue?(yes/no): yes\n",
      "Enter first number: 3\n",
      "Enter second number: 6\n",
      "Enter operation (+,-,*,/): -\n"
     ]
    },
    {
     "name": "stdout",
     "output_type": "stream",
     "text": [
      "Result:-3.0\n"
     ]
    },
    {
     "name": "stdin",
     "output_type": "stream",
     "text": [
      "Continue?(yes/no): yes\n",
      "Enter first number: 9\n",
      "Enter second number: 10\n",
      "Enter operation (+,-,*,/): *\n"
     ]
    },
    {
     "name": "stdout",
     "output_type": "stream",
     "text": [
      "Result:90.0\n"
     ]
    },
    {
     "name": "stdin",
     "output_type": "stream",
     "text": [
      "Continue?(yes/no): yes\n",
      "Enter first number: 20\n",
      "Enter second number: 62\n",
      "Enter operation (+,-,*,/): /\n"
     ]
    },
    {
     "name": "stdout",
     "output_type": "stream",
     "text": [
      "Result:0.3225806451612903\n"
     ]
    },
    {
     "name": "stdin",
     "output_type": "stream",
     "text": [
      "Continue?(yes/no): yes\n",
      "Enter first number: 62\n",
      "Enter second number: 25\n",
      "Enter operation (+,-,*,/): /\n"
     ]
    },
    {
     "name": "stdout",
     "output_type": "stream",
     "text": [
      "Result:2.48\n"
     ]
    },
    {
     "name": "stdin",
     "output_type": "stream",
     "text": [
      "Continue?(yes/no): no\n"
     ]
    }
   ],
   "source": [
    "while True:\n",
    "    num1 = float(input(\"Enter first number:\"))\n",
    "    num2 = float(input(\"Enter second number:\"))\n",
    "    operation = input(\"Enter operation (+,-,*,/):\")\n",
    "    if operation == '+':\n",
    "        print(f\"Result:{num1+num2}\")\n",
    "    elif operation == '-':\n",
    "        print(f\"Result:{num1-num2}\")\n",
    "    elif operation == '*':\n",
    "        print(f\"Result:{num1*num2}\")\n",
    "    elif operation == '/':\n",
    "        if num2 == 0:\n",
    "            print(\"Cannot divide by zero!\")\n",
    "        else:\n",
    "            print(f\"Result:{num1/num2}\")\n",
    "    else:\n",
    "        print(\"Invalid operation!\")\n",
    "    again = input(\"Continue?(yes/no):\").lower()\n",
    "    if again != 'yes':\n",
    "        break"
   ]
  },
  {
   "cell_type": "code",
   "execution_count": null,
   "id": "4d8dab38-11f1-4eab-9463-7cdaa2707841",
   "metadata": {},
   "outputs": [],
   "source": []
  }
 ],
 "metadata": {
  "kernelspec": {
   "display_name": "Python 3 (ipykernel)",
   "language": "python",
   "name": "python3"
  },
  "language_info": {
   "codemirror_mode": {
    "name": "ipython",
    "version": 3
   },
   "file_extension": ".py",
   "mimetype": "text/x-python",
   "name": "python",
   "nbconvert_exporter": "python",
   "pygments_lexer": "ipython3",
   "version": "3.12.7"
  }
 },
 "nbformat": 4,
 "nbformat_minor": 5
}
