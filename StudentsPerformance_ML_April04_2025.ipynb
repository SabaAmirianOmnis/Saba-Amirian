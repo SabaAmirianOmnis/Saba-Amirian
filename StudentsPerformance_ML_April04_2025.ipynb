{
 "cells": [
  {
   "cell_type": "code",
   "execution_count": null,
   "id": "eaa087dc-dce3-44bf-956e-93383466e84b",
   "metadata": {},
   "outputs": [],
   "source": [
    "import pandas as pd\n",
    "from sklearn.model_selection import train_test_split\n",
    "from sklearn.linear_model import LogisticRegression\n",
    "from sklearn.neighbors import KNeighborsClassifier\n",
    "from sklearn.ensemble import RandomForestClassifier\n",
    "\n",
    "\n",
    "\n",
    "\n",
    "df = pd.read_csv(r\"C:\\Users\\ASUS\\Downloads\\StudentsPerformance.csv\")\n",
    "\n",
    "\n",
    "\n",
    "\n",
    "df[\"Pass\"] = (df[\"math score\"] >= 50) & (df[\"reading score\"] >= 50) & (df[\"writing score\"] >= 50)\n",
    "df[\"Pass\"] = df[\"Pass\"].astype(int)\n",
    "\n",
    "\n",
    "\n",
    "\n",
    "X = df[[\"math score\", \"reading score\", \"writing score\"]]\n",
    "Y = df[\"Pass\"]\n",
    "\n",
    "\n",
    "\n",
    "\n",
    "X_train, X_test, Y_train, Y_test = train_test_split(X, Y, test_size = 0.2, random_state = 42)\n",
    "\n",
    "\n",
    "\n",
    "\n",
    "log_reg = LogisticRegression()\n",
    "log_reg.fit(X_train, Y_train)\n",
    "print(\"Logistic Regression Accuracy :\", log_reg.score(X_test, Y_test))\n",
    "\n",
    "\n",
    "\n",
    "\n",
    "knn = KNeighborsClassifier(n_neighbors = 5)\n",
    "knn.fit(X_train, Y_train)\n",
    "print(\"KNN Accuracy :\", knn.score(X_test, Y_test))\n",
    "\n",
    "\n",
    "\n",
    "\n",
    "rf = RandomForestClassifier(random_state = 42)\n",
    "rf.fit(X_train, Y_train)\n",
    "feature_importance = pd.Series(rf.fearure_importance_, index = X.columns)\n",
    "print(\"Feature Importance :\\n"
   ]
  }
 ],
 "metadata": {
  "kernelspec": {
   "display_name": "Python 3 (ipykernel)",
   "language": "python",
   "name": "python3"
  },
  "language_info": {
   "codemirror_mode": {
    "name": "ipython",
    "version": 3
   },
   "file_extension": ".py",
   "mimetype": "text/x-python",
   "name": "python",
   "nbconvert_exporter": "python",
   "pygments_lexer": "ipython3",
   "version": "3.12.7"
  }
 },
 "nbformat": 4,
 "nbformat_minor": 5
}
