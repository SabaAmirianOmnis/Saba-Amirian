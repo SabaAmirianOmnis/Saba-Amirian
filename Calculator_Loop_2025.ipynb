{
 "cells": [
  {
   "cell_type": "code",
   "execution_count": 1,
   "id": "03b5a1d4-24fe-412e-ba01-9e54c17bb056",
   "metadata": {},
   "outputs": [
    {
     "name": "stdin",
     "output_type": "stream",
     "text": [
      "Enter first number: 3\n",
      "Enter second number: 5\n",
      "Enter operation(+,-): +\n"
     ]
    },
    {
     "name": "stdout",
     "output_type": "stream",
     "text": [
      "8.0\n"
     ]
    },
    {
     "name": "stdin",
     "output_type": "stream",
     "text": [
      "Continue?(yes/no): yes\n",
      "Enter first number: 5\n",
      "Enter second number: 3\n",
      "Enter operation(+,-): -\n"
     ]
    },
    {
     "name": "stdout",
     "output_type": "stream",
     "text": [
      "2.0\n"
     ]
    },
    {
     "name": "stdin",
     "output_type": "stream",
     "text": [
      "Continue?(yes/no): no\n"
     ]
    }
   ],
   "source": [
    "while True:\n",
    "    num1 = float(input(\"Enter first number:\"))\n",
    "    num2 = float(input(\"Enter second number:\"))\n",
    "    operation = input(\"Enter operation(+,-):\")\n",
    "    if operation == '+':\n",
    "        print(num1 + num2)\n",
    "    elif operation == '-':\n",
    "        print(num1 - num2)\n",
    "    else:\n",
    "        print(\"Invalid operation\")\n",
    "    again = input(\"Continue?(yes/no):\")\n",
    "    if again.lower()!= 'yes':\n",
    "        break"
   ]
  },
  {
   "cell_type": "code",
   "execution_count": null,
   "id": "251ce970-9d88-4430-84b1-f7e905dcba85",
   "metadata": {},
   "outputs": [],
   "source": []
  }
 ],
 "metadata": {
  "kernelspec": {
   "display_name": "Python 3 (ipykernel)",
   "language": "python",
   "name": "python3"
  },
  "language_info": {
   "codemirror_mode": {
    "name": "ipython",
    "version": 3
   },
   "file_extension": ".py",
   "mimetype": "text/x-python",
   "name": "python",
   "nbconvert_exporter": "python",
   "pygments_lexer": "ipython3",
   "version": "3.12.7"
  }
 },
 "nbformat": 4,
 "nbformat_minor": 5
}
