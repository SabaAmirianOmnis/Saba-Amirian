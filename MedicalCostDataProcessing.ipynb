{
 "cells": [
  {
   "cell_type": "code",
   "execution_count": 1,
   "id": "c7511907-03d1-4a72-ae9a-776e3d1331f4",
   "metadata": {},
   "outputs": [
    {
     "name": "stdout",
     "output_type": "stream",
     "text": [
      "First 5 rows with region numbers :\n",
      "         region  region_number\n",
      "0     southwest              1\n",
      "1     southeast              2\n",
      "2     southeast              2\n",
      "3     northwest              3\n",
      "4     northwest              3\n",
      "...         ...            ...\n",
      "1333  northwest              3\n",
      "1334  northeast              4\n",
      "1335  southeast              2\n",
      "1336  southwest              1\n",
      "1337  northwest              3\n",
      "\n",
      "[1338 rows x 2 columns]\n"
     ]
    }
   ],
   "source": [
    "import pandas as pd\n",
    "\n",
    "\n",
    "\n",
    "df = pd.read_csv(r\"C:\\Users\\ASUS\\Downloads\\Medical.csv\")\n",
    "\n",
    "\n",
    "\n",
    "region_dict = {'southwest' : 1, 'southeast' : 2, 'northwest' : 3, 'northeast' : 4}\n",
    "\n",
    "\n",
    "\n",
    "df['region_number'] = df['region'].map(region_dict)\n",
    "\n",
    "\n",
    "\n",
    "print(\"First 5 rows with region numbers :\")\n",
    "print(df[['region', 'region_number']])"
   ]
  },
  {
   "cell_type": "code",
   "execution_count": null,
   "id": "c79040bc-75f8-457b-bb95-c272bd39e817",
   "metadata": {},
   "outputs": [],
   "source": []
  }
 ],
 "metadata": {
  "kernelspec": {
   "display_name": "Python 3 (ipykernel)",
   "language": "python",
   "name": "python3"
  },
  "language_info": {
   "codemirror_mode": {
    "name": "ipython",
    "version": 3
   },
   "file_extension": ".py",
   "mimetype": "text/x-python",
   "name": "python",
   "nbconvert_exporter": "python",
   "pygments_lexer": "ipython3",
   "version": "3.12.7"
  }
 },
 "nbformat": 4,
 "nbformat_minor": 5
}
