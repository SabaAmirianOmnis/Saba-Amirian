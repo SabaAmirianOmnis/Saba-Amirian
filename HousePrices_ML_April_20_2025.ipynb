{
 "cells": [
  {
   "cell_type": "code",
   "execution_count": null,
   "id": "3c82f3df-2293-49d9-be13-f3c7bf8bf3cf",
   "metadata": {},
   "outputs": [],
   "source": [
    "from sklearn.ensemble import RandomForestRegressor, GradientBoostingRegressor\n",
    "from sklearn.metrics import mean_squared_error\n",
    "from sklearn.model_selection import cross_val_score\n",
    "import pandas as pd\n",
    "import pickle\n",
    "\n",
    "\n",
    "\n",
    "\n",
    "df = pd.read_csv(r\"C:\\Users\\ASUS\\Downloads\\House Prices.csv\")\n",
    "features = ['LotArea', 'OverallQual', 'GrLivArea']\n",
    "X = df[features].fillna(0)\n",
    "Y = df['SalePrice']\n",
    "\n",
    "\n",
    "\n",
    "\n",
    "rf = RandomForestRegressor(n_estimators = 100, random_state = 42)\n",
    "rf.fit(X, Y)\n",
    "rf_pred = rf.predict(X)\n",
    "rf_mse = mean_squared_error(Y, rf_pred)\n",
    "print(\"Random Forest MSE :\", rf_mse)\n",
    "\n",
    "\n",
    "\n",
    "\n",
    "gb = GradientBoostingRegressor(n_estimators = 100, random_state = 42)\n",
    "gb.fit(X, Y)\n",
    "gb_pred = gb.predict(X)\n",
    "gb_mse = mean_squared_error(Y, gb_pred)\n",
    "print(\"Gradient Boosting MSE :\", gb_mse)\n",
    "\n",
    "\n",
    "\n",
    "\n",
    "gb_cv_scores = cross_val_score(gb, X, Y, cv = 5, scoring = 'neg_mean_squared_error')\n",
    "print(\"Gradient Boosting CV MSE (mean) :\", -gb_cv_scores.mean())\n",
    "\n",
    "\n",
    "\n",
    "\n",
    "print(\"MSE Comparison : Lower is better. Random Forest :\", rf_mse, \"Gradient Boosting :\", gb_mse)\n",
    "\n",
    "\n",
    "\n",
    "\n",
    "with open('House_Prices_Model_Apr20_2025.pkl', 'wb'"
   ]
  }
 ],
 "metadata": {
  "kernelspec": {
   "display_name": "Python 3 (ipykernel)",
   "language": "python",
   "name": "python3"
  },
  "language_info": {
   "codemirror_mode": {
    "name": "ipython",
    "version": 3
   },
   "file_extension": ".py",
   "mimetype": "text/x-python",
   "name": "python",
   "nbconvert_exporter": "python",
   "pygments_lexer": "ipython3",
   "version": "3.12.7"
  }
 },
 "nbformat": 4,
 "nbformat_minor": 5
}
