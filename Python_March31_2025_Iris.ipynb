{
 "cells": [
  {
   "cell_type": "code",
   "execution_count": null,
   "id": "0e0e0edb-13b9-40ad-8c72-9c24813b42ae",
   "metadata": {},
   "outputs": [],
   "source": [
    "import pandas as pd\n",
    "import matplotlib.pyplot as plt\n",
    "\n",
    "\n",
    "\n",
    "\n",
    "df = pd.read_csv(r\"C:\\Users\\ASUS\\Downloads\\Iris.csv\")\n",
    "\n",
    "\n",
    "\n",
    "\n",
    "large_petals = [length for length in df['PetalLengthCm']if length > 5]\n",
    "print(\"Petal Lengths > 5 Count :\", len(large_petals))\n",
    "\n",
    "\n",
    "\n",
    "\n",
    "plt.hist(large_petals, bins = 10, color = 'purple')\n",
    "plt.title('Distri"
   ]
  }
 ],
 "metadata": {
  "kernelspec": {
   "display_name": "Python 3 (ipykernel)",
   "language": "python",
   "name": "python3"
  },
  "language_info": {
   "codemirror_mode": {
    "name": "ipython",
    "version": 3
   },
   "file_extension": ".py",
   "mimetype": "text/x-python",
   "name": "python",
   "nbconvert_exporter": "python",
   "pygments_lexer": "ipython3",
   "version": "3.12.7"
  }
 },
 "nbformat": 4,
 "nbformat_minor": 5
}
