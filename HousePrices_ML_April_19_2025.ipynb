{
 "cells": [
  {
   "cell_type": "code",
   "execution_count": null,
   "id": "32d41eb5-9dd8-408a-95db-e60d5e5c32c5",
   "metadata": {},
   "outputs": [],
   "source": [
    "from sklearn.linear_model import LinearRegression\n",
    "from sklearn.ensemble import RandomForestRegressor\n",
    "from sklearn.metrics import mean_squared_error\n",
    "import pandas as pd\n",
    "import pickle\n",
    "\n",
    "\n",
    "\n",
    "\n",
    "df = pd.read_csv(r\"C:\\Users\\ASUS\\Downloads\\House Prices.csv\")\n",
    "\n",
    "\n",
    "\n",
    "\n",
    "features = ['LotArea', 'OverallQual', 'GrLivArea']\n",
    "X = df[features].fillna(0)\n",
    "Y = df['SalePrice']\n",
    "\n",
    "\n",
    "\n",
    "\n",
    "lr = LinearRegression()\n",
    "lr.fit(X, Y)\n",
    "lr_pred = lr.predict(X)\n",
    "lr_mse = mean_squared_error(Y, lr_pred)\n",
    "print(\"Linear Regression MSE :\", lr_mse)\n",
    "\n",
    "\n",
    "\n",
    "\n",
    "rf = RandomForestRegressor(n_estimators = 100, random_state = 42)\n",
    "rf.fit(X, Y)\n",
    "rf_pred = rf.predict(X)\n",
    "rf_mse = mean_squared_error(Y, rf_pred)\n",
    "print(\"Random Forest MSE :\", rf_mse)\n",
    "\n",
    "\n",
    "\n",
    "\n",
    "print(\"MSE Comparison : Lower is better. Linear :\", lr_mse, \"Random Forest :\", rf_mse)\n",
    "\n",
    "\n",
    "\n",
    "\n",
    "with open('House_Prices_Model_Apr19_2025.pkl', 'wb')as f : pickle.drump("
   ]
  }
 ],
 "metadata": {
  "kernelspec": {
   "display_name": "Python 3 (ipykernel)",
   "language": "python",
   "name": "python3"
  },
  "language_info": {
   "codemirror_mode": {
    "name": "ipython",
    "version": 3
   },
   "file_extension": ".py",
   "mimetype": "text/x-python",
   "name": "python",
   "nbconvert_exporter": "python",
   "pygments_lexer": "ipython3",
   "version": "3.12.7"
  }
 },
 "nbformat": 4,
 "nbformat_minor": 5
}
