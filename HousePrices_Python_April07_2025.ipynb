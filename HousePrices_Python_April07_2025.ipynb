{
 "cells": [
  {
   "cell_type": "code",
   "execution_count": null,
   "id": "b933e6fb-3947-43d9-abcb-957f3f2ba7a4",
   "metadata": {},
   "outputs": [],
   "source": [
    "import pandas as pd\n",
    "import matplotlib.pyplot as plt\n",
    "import seaborn as sns\n",
    "\n",
    "\n",
    "\n",
    "\n",
    "df = pd.read_csv(r\"C:\\Users\\ASUS\\Downloads\\House Prices.csv\")\n",
    "\n",
    "\n",
    "\n",
    "\n",
    "columns = [\"LotArea\", \"OverallQual\", \"YearBuilt\", \"SalePrice\"]\n",
    "df = df[columns]\n",
    "\n",
    "\n",
    "\n",
    "\n",
    "stats_dict = {\"Average SalePrice :\", df[\"SalePrice\"].mean(), \"Average LotArea :\", df[\"LotArea\"].mean(), \"Average OverallQual :\", df[\"OverallQual\"].mean()}\n",
    "print(\"Statistics Dictionary :\", stats_dict)\n",
    "\n",
    "\n",
    "\n",
    "\n",
    "plt.figure(figsize = (8, 5))\n",
    "plt.hist(df[\"SalePrice\"], bins = 30, color = \"purple\", alpha = 0.7)\n",
    "plt.title(\"Histogram of SalePrice\")\n",
    "plt.xlabel(\"Sale Price ($)\")\n",
    "plt.ylabel(\"Frequency\")\n",
    "plt.ssavefig(\"HousePrices_Histogram_April07_2025.png\")\n",
    "plt.show()\n",
    "\n",
    "\n",
    "\n",
    "\n",
    "plt.figure(figsize = (8, 5))\n",
    "plt.hist(df[\"OverallQual\"], bins = 10, color = \"teal\", alpha = 0.7)\n",
    "plt.title(\"Histogram of OverallQual\")\n",
    "plt.xlabel(\"OverallQual\")\n",
    "plt.ylabel(\"Frequency\")\n",
    "plt.savefig(\"Hou"
   ]
  }
 ],
 "metadata": {
  "kernelspec": {
   "display_name": "Python 3 (ipykernel)",
   "language": "python",
   "name": "python3"
  },
  "language_info": {
   "codemirror_mode": {
    "name": "ipython",
    "version": 3
   },
   "file_extension": ".py",
   "mimetype": "text/x-python",
   "name": "python",
   "nbconvert_exporter": "python",
   "pygments_lexer": "ipython3",
   "version": "3.12.7"
  }
 },
 "nbformat": 4,
 "nbformat_minor": 5
}
