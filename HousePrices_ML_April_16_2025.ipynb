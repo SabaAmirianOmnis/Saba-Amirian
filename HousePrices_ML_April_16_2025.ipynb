{
 "cells": [
  {
   "cell_type": "code",
   "execution_count": null,
   "id": "722f2da4-5bf1-4bdd-9c4d-d2ec98b6b9e7",
   "metadata": {},
   "outputs": [],
   "source": [
    "import pandas as pd\n",
    "from sklearn.cluster import KMeans\n",
    "from sklearn.preprocessing import StandardScaler\n",
    "import matplotlib.pyplot as plt\n",
    "\n",
    "\n",
    "\n",
    "\n",
    "df = pd.read_csv(r\"C:\\Users\\ASUS\\Downloads\\House Prices.csv\")\n",
    "\n",
    "\n",
    "\n",
    "\n",
    "features = ['OverallQual', 'GrLivArea']\n",
    "X = df[features]\n",
    "\n",
    "\n",
    "\n",
    "\n",
    "X = X.fillna(X.mean())\n",
    "\n",
    "\n",
    "\n",
    "\n",
    "scaler = StandardScaler()\n",
    "X_scaled = scaler.fit_transform(X)\n",
    "\n",
    "\n",
    "\n",
    "\n",
    "kmeans = KMeans(n_clusters = 3, random_state = 42)\n",
    "df['Cluster'] = kmeans.fit_predict(X_scaled)\n",
    "\n",
    "\n",
    "\n",
    "\n",
    "plt.scatter(df['OverallQual'], df['GrLivArea'], c = df['Cluster'], cmap = 'viridis')\n",
    "plt.xlabel('Overall Quality')\n",
    "plt.ylabel('Living Area (sq ft)')\n",
    "plt.title('House Clusters')\n",
    "plt.show()\n",
    "\n",
    "\n",
    "\n",
    "\n",
    "print(\"Cluster center (scaled) :\", kmeans.cluster_"
   ]
  }
 ],
 "metadata": {
  "kernelspec": {
   "display_name": "Python 3 (ipykernel)",
   "language": "python",
   "name": "python3"
  },
  "language_info": {
   "codemirror_mode": {
    "name": "ipython",
    "version": 3
   },
   "file_extension": ".py",
   "mimetype": "text/x-python",
   "name": "python",
   "nbconvert_exporter": "python",
   "pygments_lexer": "ipython3",
   "version": "3.12.7"
  }
 },
 "nbformat": 4,
 "nbformat_minor": 5
}
