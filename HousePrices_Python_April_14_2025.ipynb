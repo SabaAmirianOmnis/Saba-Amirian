{
 "cells": [
  {
   "cell_type": "code",
   "execution_count": null,
   "id": "97b1cf7b-d07b-4918-a5a6-561a88924b90",
   "metadata": {},
   "outputs": [],
   "source": [
    "import pandas as pd\n",
    "import seaborn as sns\n",
    "import matplotlib.pyplot as plt\n",
    "\n",
    "\n",
    "\n",
    "\n",
    "df = pd.read_csv(r\"C:\\Users\\ASUS\\Downloads\\House Prices.csv\")\n",
    "\n",
    "\n",
    "\n",
    "\n",
    "sns.pairplot(df, vars = [\"SalePrice\", \"GrLivArea\", \"OverallQual\"])\n",
    "plt.show()\n",
    "\n",
    "\n",
    "\n",
    "\n",
    "sns.violinplot(x = 'OverallQual', y = 'SalePrice', data = df)\n",
    "plt.title('SalePrice Distribution by OverallQual')\n",
    "plt.show()\n",
    "\n",
    "\n",
    "\n",
    "\n",
    "price_by_qual = df.groupby('OverallQual')['SalePrice'].mean().to_dict()\n",
    "print(\"Mean SalePrice by OverallQual :\", price_by_qual)"
   ]
  },
  {
   "cell_type": "code",
   "execution_count": null,
   "id": "7b5305d7-d899-4925-b900-12c5bda190b4",
   "metadata": {},
   "outputs": [],
   "source": []
  }
 ],
 "metadata": {
  "kernelspec": {
   "display_name": "Python 3 (ipykernel)",
   "language": "python",
   "name": "python3"
  },
  "language_info": {
   "codemirror_mode": {
    "name": "ipython",
    "version": 3
   },
   "file_extension": ".py",
   "mimetype": "text/x-python",
   "name": "python",
   "nbconvert_exporter": "python",
   "pygments_lexer": "ipython3",
   "version": "3.12.7"
  }
 },
 "nbformat": 4,
 "nbformat_minor": 5
}
