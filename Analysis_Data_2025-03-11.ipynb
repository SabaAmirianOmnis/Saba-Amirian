{
 "cells": [
  {
   "cell_type": "code",
   "execution_count": 1,
   "id": "3f0be0c4-01a1-45e9-a6fa-ae9c3c1560f6",
   "metadata": {},
   "outputs": [
    {
     "name": "stdout",
     "output_type": "stream",
     "text": [
      "DataFrame.\n",
      "            Subject  Time ( Minutes )  Score\n",
      "0              Math             95.07     85\n",
      "1             Excel             44.67     70\n",
      "2            Python             65.40     75\n",
      "3  Machine Learning             29.13     80\n",
      "\n",
      "Correlation Matrix:\n",
      "                  Time ( Minutes )     Score\n",
      "Time ( Minutes )          1.000000  0.520389\n",
      "Score                     0.520389  1.000000\n"
     ]
    }
   ],
   "source": [
    "import numpy as np\n",
    "import pandas as pd\n",
    "\n",
    "\n",
    "data = { 'Subject' : [ 'Math' , 'Excel' , 'Python' , 'Machine Learning' ] , 'Time ( Minutes )' : [ 95.07 , 44.67 , 65.4 , 29.13 ] , 'Score' : [ 85 , 70 , 75 , 80 ] }\n",
    "\n",
    "\n",
    "df = pd.DataFrame ( data )\n",
    "\n",
    "\n",
    "correlation_matrix = df [[ 'Time ( Minutes )' , 'Score' ]] . corr ()\n",
    "\n",
    "\n",
    "print ( \"DataFrame.\")\n",
    "print ( df )\n",
    "print ( \"\\nCorrelation Matrix:\" )\n",
    "print ( correlation_matrix )"
   ]
  },
  {
   "cell_type": "code",
   "execution_count": null,
   "id": "1bb449d7-87fe-49c6-95bf-3baec94526af",
   "metadata": {},
   "outputs": [],
   "source": []
  }
 ],
 "metadata": {
  "kernelspec": {
   "display_name": "Python 3 (ipykernel)",
   "language": "python",
   "name": "python3"
  },
  "language_info": {
   "codemirror_mode": {
    "name": "ipython",
    "version": 3
   },
   "file_extension": ".py",
   "mimetype": "text/x-python",
   "name": "python",
   "nbconvert_exporter": "python",
   "pygments_lexer": "ipython3",
   "version": "3.12.7"
  }
 },
 "nbformat": 4,
 "nbformat_minor": 5
}
